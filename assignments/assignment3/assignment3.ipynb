{
 "cells": [
  {
   "cell_type": "markdown",
   "id": "32f9d7d4-8b65-493d-80ae-8bc8b3a53c2a",
   "metadata": {
    "editable": true,
    "slideshow": {
     "slide_type": ""
    },
    "tags": []
   },
   "source": [
    "# Assignment 3\n",
    "\n",
    "Please fill in blanks in this notebook. See the [README](https://github.com/mortonne/datascipsych) for instructions on setting up a Python environment to run this notebook.\n",
    "\n",
    "Write your answers for each problem, then run all cells. Upload your notebook to Canvas.\n",
    "\n",
    "If you get stuck, read through the other notebooks in this directory, ask us for help in class, or ask other students for help in class or on the weekly discussion board."
   ]
  },
  {
   "cell_type": "markdown",
   "id": "bc3b0906-de4b-41dc-bf48-c4331b28babb",
   "metadata": {
    "editable": true,
    "slideshow": {
     "slide_type": ""
    },
    "tags": []
   },
   "source": [
    "## Sample problem (not graded)\n",
    "First, let's go through a sample problem to show you how this works. You'll see problems below to fill out. They will have instructions, often some sort of data to work with, and a space to fill in your answer. For example:"
   ]
  },
  {
   "cell_type": "markdown",
   "id": "7a41cc78-bd96-424c-95c7-a156cdfa735d",
   "metadata": {
    "editable": true,
    "slideshow": {
     "slide_type": ""
    },
    "tags": []
   },
   "source": [
    "### Problem\n",
    "Use f-strings to greet a user. Given a greeting string and a user string, make a string of `\"[greeting] [user]\"` using f-strings."
   ]
  },
  {
   "cell_type": "markdown",
   "id": "ff9dcdf7-6bea-414f-b31d-7da456c9eed0",
   "metadata": {
    "editable": true,
    "slideshow": {
     "slide_type": ""
    },
    "tags": []
   },
   "source": [
    "#### Setup\n",
    "There will usually be a *Setup* cell that defines some variables. Often it will initialize a variable that you need to modify. Here, the `message` variable will hold the greeting string that you will make. We initialize it in the *Setup* cell so that the *Result* cell will run without an error even if haven't written your answer yet."
   ]
  },
  {
   "cell_type": "code",
   "execution_count": 3,
   "id": "783b272b-9d67-4282-b6a3-a97cf9975767",
   "metadata": {
    "editable": true,
    "slideshow": {
     "slide_type": ""
    },
    "tags": []
   },
   "outputs": [],
   "source": [
    "greeting = \"hello\"  # string to greet the user\n",
    "user = \"world\"  # user to greet\n",
    "message = None  # you will overwrite this variable with your message"
   ]
  },
  {
   "cell_type": "markdown",
   "id": "2381e832-d7af-44a8-a504-ebb62ba2bcb3",
   "metadata": {
    "editable": true,
    "slideshow": {
     "slide_type": ""
    },
    "tags": []
   },
   "source": [
    "#### Answer\n",
    "This is the only part that you should change. You will edit the code cell in the *Answer* section to add your code (you can replace the `# your code here` placeholder)."
   ]
  },
  {
   "cell_type": "code",
   "execution_count": 4,
   "id": "41097b83-2adc-4f69-8716-036e059a462b",
   "metadata": {
    "editable": true,
    "slideshow": {
     "slide_type": ""
    },
    "tags": []
   },
   "outputs": [],
   "source": [
    "# your code here"
   ]
  },
  {
   "cell_type": "markdown",
   "id": "ea6e710c-cf24-4076-9db0-1339ff48bddc",
   "metadata": {
    "editable": true,
    "slideshow": {
     "slide_type": ""
    },
    "tags": []
   },
   "source": [
    "#### Result\n",
    "\n",
    "This part is just here to display the results of running your code. You won't edit this part."
   ]
  },
  {
   "cell_type": "code",
   "execution_count": 5,
   "id": "e749216e-6392-4d87-ba81-b9e5eec2b727",
   "metadata": {
    "editable": true,
    "slideshow": {
     "slide_type": ""
    },
    "tags": []
   },
   "outputs": [
    {
     "name": "stdout",
     "output_type": "stream",
     "text": [
      "None\n"
     ]
    }
   ],
   "source": [
    "print(message)  # displays the message that you created in the Answer cell"
   ]
  },
  {
   "cell_type": "markdown",
   "id": "212f15fc-8f7d-4359-bc48-f53b910506f7",
   "metadata": {
    "editable": true,
    "slideshow": {
     "slide_type": ""
    },
    "tags": []
   },
   "source": [
    "### Writing a solution"
   ]
  },
  {
   "cell_type": "markdown",
   "id": "97450d5c-4fe3-4d81-9ac3-75aab99bb1e8",
   "metadata": {
    "editable": true,
    "slideshow": {
     "slide_type": ""
    },
    "tags": []
   },
   "source": [
    "The `message` variable is initially defined as `None` (this makes it so the *Result* section runs without errors, even if you haven't finished the problem yet). You should put your code in the *Answer* section to assign `message` to the correct value. For example, here is a solution:"
   ]
  },
  {
   "cell_type": "code",
   "execution_count": 6,
   "id": "db31017d-de39-4902-91bf-bf1c072baf81",
   "metadata": {
    "editable": true,
    "slideshow": {
     "slide_type": ""
    },
    "tags": []
   },
   "outputs": [],
   "source": [
    "message = f\"{greeting} {user}\""
   ]
  },
  {
   "cell_type": "markdown",
   "id": "22b8c8fe-535a-44c4-a576-14ce6f853e78",
   "metadata": {
    "editable": true,
    "slideshow": {
     "slide_type": ""
    },
    "tags": []
   },
   "source": [
    "If you placed this in the *Answer* section, you would get full credit for this problem. Try copying and pasting the above code into the *Answer* section, and see how the *Result* section changes to display the correct message instead of `None` when you run all the cells."
   ]
  },
  {
   "cell_type": "markdown",
   "id": "2572191d-7db1-4271-a105-29132ca4aceb",
   "metadata": {
    "editable": true,
    "slideshow": {
     "slide_type": ""
    },
    "tags": []
   },
   "source": [
    "## Problem: Calculating mathmatical expressions (2 points)\n",
    "\n",
    "Use Python operators and the `math` module to calculate $x = \\frac{1}{2} + cos(\\pi)^2$.\n",
    "\n",
    "Hint: use `help(math)` to see functions and data that are available in the `math` module."
   ]
  },
  {
   "cell_type": "markdown",
   "id": "ff9ce5af-3b8c-4b65-8782-01ab21e4cdf2",
   "metadata": {
    "editable": true,
    "slideshow": {
     "slide_type": ""
    },
    "tags": []
   },
   "source": [
    "### Setup"
   ]
  },
  {
   "cell_type": "code",
   "execution_count": 7,
   "id": "e93708e5-2125-4027-ab4e-16f1ee47b358",
   "metadata": {
    "editable": false,
    "slideshow": {
     "slide_type": ""
    },
    "tags": []
   },
   "outputs": [],
   "source": [
    "import math\n",
    "x = None  # assign your answer to this variable"
   ]
  },
  {
   "cell_type": "markdown",
   "id": "9c51a899-9996-4710-90cb-88e0e9c08b76",
   "metadata": {},
   "source": [
    "### Answer"
   ]
  },
  {
   "cell_type": "code",
   "execution_count": null,
   "id": "b012fd60-99a2-41ce-aec9-25c838b72860",
   "metadata": {
    "editable": true,
    "slideshow": {
     "slide_type": ""
    },
    "tags": []
   },
   "outputs": [],
   "source": [
    "math.cos 4**2"
   ]
  },
  {
   "cell_type": "markdown",
   "id": "4a21da60-1319-4e7d-8c82-74fc0fae9d13",
   "metadata": {
    "editable": true,
    "slideshow": {
     "slide_type": ""
    },
    "tags": []
   },
   "source": [
    "### Result"
   ]
  },
  {
   "cell_type": "code",
   "execution_count": 9,
   "id": "77b25962-bd8c-4ae1-a44c-9e0dc2617695",
   "metadata": {
    "editable": false,
    "slideshow": {
     "slide_type": ""
    },
    "tags": []
   },
   "outputs": [
    {
     "name": "stdout",
     "output_type": "stream",
     "text": [
      "None\n"
     ]
    }
   ],
   "source": [
    "print(x)"
   ]
  },
  {
   "cell_type": "markdown",
   "id": "bcb16eaa-3fa4-4003-907e-5b6b9c018cdf",
   "metadata": {
    "editable": true,
    "slideshow": {
     "slide_type": ""
    },
    "tags": []
   },
   "source": [
    "## Problem: making a list (2 points)\n",
    "\n",
    "Create a list called `y` that has these items: 1, 2, 4, 8. Then use the `append` method to add 16 onto the end of the list. You should end up with a list that looks like `[1, 2, 4, 8, 16]`."
   ]
  },
  {
   "cell_type": "markdown",
   "id": "f492bd9f-8dc6-4065-aa20-b238a111a6b0",
   "metadata": {
    "editable": true,
    "slideshow": {
     "slide_type": ""
    },
    "tags": []
   },
   "source": [
    "### Setup"
   ]
  },
  {
   "cell_type": "code",
   "execution_count": 10,
   "id": "5a76963e-06d8-4315-af97-fd43dbd03e55",
   "metadata": {
    "editable": false,
    "slideshow": {
     "slide_type": ""
    },
    "tags": []
   },
   "outputs": [],
   "source": [
    "y = None  # assign your answer to this variable"
   ]
  },
  {
   "cell_type": "markdown",
   "id": "81aecd79-6b94-422f-86a2-e72fbc272b53",
   "metadata": {
    "editable": true,
    "slideshow": {
     "slide_type": ""
    },
    "tags": []
   },
   "source": [
    "### Answer"
   ]
  },
  {
   "cell_type": "code",
   "execution_count": 11,
   "id": "5a611c7f-c560-4556-8875-ef77e83e123c",
   "metadata": {
    "editable": true,
    "slideshow": {
     "slide_type": ""
    },
    "tags": []
   },
   "outputs": [],
   "source": [
    "# your code here"
   ]
  },
  {
   "cell_type": "markdown",
   "id": "9e06a7ab-23ef-41dc-a7e3-bfb017a6bdc2",
   "metadata": {
    "editable": true,
    "slideshow": {
     "slide_type": ""
    },
    "tags": []
   },
   "source": [
    "### Result"
   ]
  },
  {
   "cell_type": "code",
   "execution_count": 12,
   "id": "9f760d33-8afa-4b5c-b003-a9bc4b9fe52c",
   "metadata": {
    "editable": false,
    "slideshow": {
     "slide_type": ""
    },
    "tags": []
   },
   "outputs": [
    {
     "name": "stdout",
     "output_type": "stream",
     "text": [
      "None\n"
     ]
    }
   ],
   "source": [
    "print(y)"
   ]
  },
  {
   "cell_type": "markdown",
   "id": "474a2ac1-5822-4652-a924-0078c3568382",
   "metadata": {
    "editable": true,
    "slideshow": {
     "slide_type": ""
    },
    "tags": []
   },
   "source": [
    "## Problem: accessing a list (2 points)\n",
    "\n",
    "Given a list `z = [1, 2, 3, 4, 5]`, use indexing to get the first item (`1`) and the last item (`5`). Use slicing to get the third and fourth items in a list (`[3, 4]`)."
   ]
  },
  {
   "cell_type": "markdown",
   "id": "aecc83fb-86ac-4200-be48-3c6e9d4bd838",
   "metadata": {
    "editable": true,
    "slideshow": {
     "slide_type": ""
    },
    "tags": []
   },
   "source": [
    "### Setup"
   ]
  },
  {
   "cell_type": "code",
   "execution_count": 13,
   "id": "d4c7b337-c4bc-40ea-a6bf-df8b059067f8",
   "metadata": {
    "editable": false,
    "slideshow": {
     "slide_type": ""
    },
    "tags": []
   },
   "outputs": [],
   "source": [
    "z = [1, 2, 3, 4, 5]\n",
    "first_item = None\n",
    "last_item = None\n",
    "third_and_fourth_list = None"
   ]
  },
  {
   "cell_type": "markdown",
   "id": "c034309f-7fe2-42fe-853b-1e474812c63d",
   "metadata": {
    "editable": true,
    "slideshow": {
     "slide_type": ""
    },
    "tags": []
   },
   "source": [
    "### Answer"
   ]
  },
  {
   "cell_type": "code",
   "execution_count": 14,
   "id": "32b1c643-35ec-41d1-baac-8d36c846508d",
   "metadata": {
    "editable": true,
    "slideshow": {
     "slide_type": ""
    },
    "tags": []
   },
   "outputs": [],
   "source": [
    "# your code here"
   ]
  },
  {
   "cell_type": "markdown",
   "id": "6fe3e579-da2d-4565-95e5-bb91bc94cde5",
   "metadata": {
    "editable": true,
    "slideshow": {
     "slide_type": ""
    },
    "tags": []
   },
   "source": [
    "### Result"
   ]
  },
  {
   "cell_type": "code",
   "execution_count": 15,
   "id": "efe8f2d9-01cc-4cd8-a987-00ebf98e9297",
   "metadata": {
    "editable": false,
    "slideshow": {
     "slide_type": ""
    },
    "tags": []
   },
   "outputs": [
    {
     "name": "stdout",
     "output_type": "stream",
     "text": [
      "None\n",
      "None\n",
      "None\n"
     ]
    }
   ],
   "source": [
    "print(first_item)\n",
    "print(last_item)\n",
    "print(third_and_fourth_list)"
   ]
  },
  {
   "cell_type": "markdown",
   "id": "60f9e822-8fb0-45a8-81cf-3a9e63a647d6",
   "metadata": {
    "editable": true,
    "slideshow": {
     "slide_type": ""
    },
    "tags": []
   },
   "source": [
    "## Problem: making a dictionary (2 points)\n",
    "\n",
    "Create a dict called `letters` with keys `\"a\"`, `\"b\"`, and `\"c\"`, which have values of `1`, `2`, and `3` respectively. Then use assignment (like `mydict[new_key] = new_value`) to add another key, `\"d\"`, with a value of `4`."
   ]
  },
  {
   "cell_type": "markdown",
   "id": "13ec0767-b8d2-4751-9963-c261275533b6",
   "metadata": {
    "editable": true,
    "slideshow": {
     "slide_type": ""
    },
    "tags": []
   },
   "source": [
    "### Setup"
   ]
  },
  {
   "cell_type": "code",
   "execution_count": 16,
   "id": "83913125-047b-4c87-8f54-0f8ad63ef8f2",
   "metadata": {
    "editable": false,
    "slideshow": {
     "slide_type": ""
    },
    "tags": []
   },
   "outputs": [],
   "source": [
    "letters = None"
   ]
  },
  {
   "cell_type": "markdown",
   "id": "576a0d17-45da-4870-bba4-cb1cad497960",
   "metadata": {
    "editable": true,
    "slideshow": {
     "slide_type": ""
    },
    "tags": []
   },
   "source": [
    "### Answer"
   ]
  },
  {
   "cell_type": "code",
   "execution_count": 17,
   "id": "be383289-023a-4825-9011-d9e193f91d78",
   "metadata": {
    "editable": true,
    "slideshow": {
     "slide_type": ""
    },
    "tags": []
   },
   "outputs": [],
   "source": [
    "# your code here"
   ]
  },
  {
   "cell_type": "markdown",
   "id": "f05cc936-b1ed-466a-9fca-258ed8914815",
   "metadata": {
    "editable": true,
    "slideshow": {
     "slide_type": ""
    },
    "tags": []
   },
   "source": [
    "### Result"
   ]
  },
  {
   "cell_type": "code",
   "execution_count": 18,
   "id": "428148ee-c60c-4cd2-a365-d2989019bcd5",
   "metadata": {
    "editable": false,
    "slideshow": {
     "slide_type": ""
    },
    "tags": []
   },
   "outputs": [
    {
     "name": "stdout",
     "output_type": "stream",
     "text": [
      "None\n"
     ]
    }
   ],
   "source": [
    "print(letters)"
   ]
  },
  {
   "cell_type": "markdown",
   "id": "567fb68b-af28-4d2f-bdcc-aa27d19ab6d1",
   "metadata": {
    "editable": true,
    "slideshow": {
     "slide_type": ""
    },
    "tags": []
   },
   "source": [
    "## Problem: accessing a dictionary (2 points)\n",
    "\n",
    "Given a dictionary `participant_age`, get the age of participant `002`."
   ]
  },
  {
   "cell_type": "markdown",
   "id": "26981242-8881-4174-a63a-3e73612a8d07",
   "metadata": {
    "editable": true,
    "slideshow": {
     "slide_type": ""
    },
    "tags": []
   },
   "source": [
    "### Setup"
   ]
  },
  {
   "cell_type": "code",
   "execution_count": 19,
   "id": "0461769e-d8d7-48ee-ba16-99dcc59f2479",
   "metadata": {
    "editable": false,
    "slideshow": {
     "slide_type": ""
    },
    "tags": []
   },
   "outputs": [],
   "source": [
    "participant_age = {\"001\": 32, \"002\": 23, \"003\": 18}\n",
    "age_002 = None"
   ]
  },
  {
   "cell_type": "markdown",
   "id": "347f5165-14ff-4555-9353-dc28b204fbb2",
   "metadata": {
    "editable": true,
    "slideshow": {
     "slide_type": ""
    },
    "tags": []
   },
   "source": [
    "### Answer"
   ]
  },
  {
   "cell_type": "code",
   "execution_count": 20,
   "id": "c4488e56-efb7-482a-9234-d223dea1b81f",
   "metadata": {
    "editable": true,
    "slideshow": {
     "slide_type": ""
    },
    "tags": []
   },
   "outputs": [],
   "source": [
    "# your code here"
   ]
  },
  {
   "cell_type": "markdown",
   "id": "ea911304-ce38-4464-a6bd-86cc0cc420c9",
   "metadata": {
    "editable": true,
    "slideshow": {
     "slide_type": ""
    },
    "tags": []
   },
   "source": [
    "### Result"
   ]
  },
  {
   "cell_type": "code",
   "execution_count": 21,
   "id": "fb22d752-14fc-455a-baa2-303304ab69fe",
   "metadata": {
    "editable": false,
    "slideshow": {
     "slide_type": ""
    },
    "tags": []
   },
   "outputs": [
    {
     "name": "stdout",
     "output_type": "stream",
     "text": [
      "None\n"
     ]
    }
   ],
   "source": [
    "print(age_002)"
   ]
  },
  {
   "cell_type": "markdown",
   "id": "27f8a3ea-4113-4a75-a751-02aa119c332b",
   "metadata": {
    "editable": true,
    "slideshow": {
     "slide_type": ""
    },
    "tags": []
   },
   "source": [
    "## Problem: making a dictionary of lists (2 points)\n",
    "Say that you have data for three participants in a psychology study. Each participant has an identifier, age, and accuracy on a memory test.\n",
    "\n",
    "| participant_id | age | accuracy |\n",
    "| -------------- | --- | -------- |\n",
    "| 001            | 24  | 0.85     |\n",
    "| 002            | 21  | 0.72     |\n",
    "| 003            | 33  | 0.92     |\n",
    "\n",
    "Create a dictionary called `data` with three keys: `\"participant_id\"`, `\"age\"`, and `\"accuracy\"`. The values of each key should be a list with the values for that column in the above table. The `participant_id` list should contain strings. The `age` list should contain integers. The `accuracy` list should contain floats."
   ]
  },
  {
   "cell_type": "markdown",
   "id": "9057f82b-bb0e-4548-b270-ec894e317896",
   "metadata": {
    "editable": true,
    "slideshow": {
     "slide_type": ""
    },
    "tags": []
   },
   "source": [
    "### Setup"
   ]
  },
  {
   "cell_type": "code",
   "execution_count": 22,
   "id": "e36744f9-b666-49c1-9779-a7945a9f3986",
   "metadata": {
    "editable": false,
    "slideshow": {
     "slide_type": ""
    },
    "tags": []
   },
   "outputs": [
    {
     "ename": "NameError",
     "evalue": "name 'none' is not defined",
     "output_type": "error",
     "traceback": [
      "\u001b[1;31m---------------------------------------------------------------------------\u001b[0m",
      "\u001b[1;31mNameError\u001b[0m                                 Traceback (most recent call last)",
      "Cell \u001b[1;32mIn[22], line 1\u001b[0m\n\u001b[1;32m----> 1\u001b[0m data \u001b[38;5;241m=\u001b[39m \u001b[43mnone\u001b[49m\n",
      "\u001b[1;31mNameError\u001b[0m: name 'none' is not defined"
     ]
    }
   ],
   "source": [
    "data = none"
   ]
  },
  {
   "cell_type": "markdown",
   "id": "325ceac4-4b52-4986-954e-af1777e2dc15",
   "metadata": {
    "editable": true,
    "slideshow": {
     "slide_type": ""
    },
    "tags": []
   },
   "source": [
    "### Answer"
   ]
  },
  {
   "cell_type": "code",
   "execution_count": null,
   "id": "d321eaad-6c9f-4347-bddf-21842fff0340",
   "metadata": {
    "editable": true,
    "slideshow": {
     "slide_type": ""
    },
    "tags": []
   },
   "outputs": [],
   "source": [
    "participant_id = [\"001\", \"002\", \"003\"]\n",
    "age = [24,21,33]\n",
    "accuracy = [0.85,0.72,0.92]\n"
   ]
  },
  {
   "cell_type": "markdown",
   "id": "ace608b0-0147-40db-a070-f1e56ff8ea2e",
   "metadata": {
    "editable": true,
    "slideshow": {
     "slide_type": ""
    },
    "tags": []
   },
   "source": [
    "### Result"
   ]
  },
  {
   "cell_type": "code",
   "execution_count": null,
   "id": "d2d6995c-9807-4fce-9846-068eeefedbe2",
   "metadata": {
    "editable": false,
    "slideshow": {
     "slide_type": ""
    },
    "tags": []
   },
   "outputs": [
    {
     "name": "stdout",
     "output_type": "stream",
     "text": [
      "None\n"
     ]
    }
   ],
   "source": [
    "print(data)"
   ]
  },
  {
   "cell_type": "markdown",
   "id": "4d7cda94-2f8f-4386-8be4-7625798a99b8",
   "metadata": {
    "editable": true,
    "slideshow": {
     "slide_type": ""
    },
    "tags": []
   },
   "source": [
    "This would be a correct answer to this question, which you could place in the *Answer* cell."
   ]
  },
  {
   "cell_type": "markdown",
   "id": "024cac4e-eb2d-41c6-b991-4d498f456865",
   "metadata": {
    "editable": true,
    "slideshow": {
     "slide_type": ""
    },
    "tags": []
   },
   "source": [
    "## Problem (graduate students): calculating expected forgetting (2 points)\n",
    "Use Python expressions and the `math` module to calculate the expected fraction of memorized material that will be forgotten after 100 minutes, according to [Ebbinghaus' formula](https://en.wikipedia.org/wiki/Forgetting_curve) for forgetting:\n",
    "\n",
    "$b = \\frac{k}{log_{10}(t)^{c} + k}$\n",
    "\n",
    "Hint: use `help(math)` to see the functions that are available in the math module. Use parentheses (`()`) to group expressions together."
   ]
  },
  {
   "cell_type": "markdown",
   "id": "87ba1b4f-52a6-4a53-b100-fd9ae0e0a04f",
   "metadata": {
    "editable": true,
    "slideshow": {
     "slide_type": ""
    },
    "tags": []
   },
   "source": [
    "### Setup"
   ]
  },
  {
   "cell_type": "code",
   "execution_count": null,
   "id": "258ecd6d-fdfa-4800-a8ca-52cbdf22d309",
   "metadata": {
    "editable": false,
    "slideshow": {
     "slide_type": ""
    },
    "tags": []
   },
   "outputs": [],
   "source": [
    "import math\n",
    "t = 100  # 100 minutes\n",
    "c = 1.25  # value that Ebbinghaus estimated based on his forgetting data\n",
    "k = 1.84  # value that Ebbinghaus estimated based on his forgetting data\n",
    "b = None"
   ]
  },
  {
   "cell_type": "markdown",
   "id": "3b1f113a-c67e-435e-b11b-d11f69faa61b",
   "metadata": {
    "editable": true,
    "slideshow": {
     "slide_type": ""
    },
    "tags": []
   },
   "source": [
    "### Answer"
   ]
  },
  {
   "cell_type": "code",
   "execution_count": null,
   "id": "ea33921c-3d5c-4042-9194-23712073c492",
   "metadata": {
    "editable": true,
    "slideshow": {
     "slide_type": ""
    },
    "tags": []
   },
   "outputs": [],
   "source": [
    "# your code here"
   ]
  },
  {
   "cell_type": "markdown",
   "id": "2509234f-5945-4326-a498-76cd29137694",
   "metadata": {
    "editable": true,
    "slideshow": {
     "slide_type": ""
    },
    "tags": []
   },
   "source": [
    "### Result"
   ]
  },
  {
   "cell_type": "code",
   "execution_count": null,
   "id": "20d19cb8-e848-47d5-ad04-a1d1f835821c",
   "metadata": {
    "editable": false,
    "slideshow": {
     "slide_type": ""
    },
    "tags": []
   },
   "outputs": [
    {
     "name": "stdout",
     "output_type": "stream",
     "text": [
      "None\n"
     ]
    }
   ],
   "source": [
    "print(b)"
   ]
  },
  {
   "cell_type": "markdown",
   "id": "d286eafe-63bd-4493-aba0-75dbd379ff1a",
   "metadata": {
    "editable": true,
    "slideshow": {
     "slide_type": ""
    },
    "tags": []
   },
   "source": [
    "## Problem (graduate students): floating-point arithmetic (2 points)\n",
    "\n",
    "When we run the below code, we get a strange result."
   ]
  },
  {
   "cell_type": "code",
   "execution_count": null,
   "id": "af90049b-4ae7-4b32-a5b1-32874d2ba509",
   "metadata": {
    "editable": true,
    "slideshow": {
     "slide_type": ""
    },
    "tags": []
   },
   "outputs": [
    {
     "data": {
      "text/plain": [
       "False"
      ]
     },
     "execution_count": 26,
     "metadata": {},
     "output_type": "execute_result"
    }
   ],
   "source": [
    "a = 0.1 + 0.2\n",
    "a == 0.3"
   ]
  },
  {
   "cell_type": "markdown",
   "id": "e334526c-e1b5-4374-8944-0d0215c45727",
   "metadata": {
    "editable": true,
    "slideshow": {
     "slide_type": ""
    },
    "tags": []
   },
   "source": [
    "We know that $0.1 + 0.2 = 0.3$, but Python tells us that `a` does not equal `0.3`. Read the Python [tutorial](https://docs.python.org/3/tutorial/floatingpoint.html) for an explanation of floating-point numbers.\n",
    "\n",
    "If we want to test that `a` is very close to 0.3, how can we check this? The tutorial describes two methods, using `math.isclose` or `round`. Use one of them below. Your code should compare `a` to `0.3` and return `True`."
   ]
  },
  {
   "cell_type": "code",
   "execution_count": null,
   "id": "72683ab8-2b07-4b53-a087-78f611ae7b3b",
   "metadata": {
    "editable": true,
    "slideshow": {
     "slide_type": ""
    },
    "tags": []
   },
   "outputs": [],
   "source": [
    "# your code here"
   ]
  },
  {
   "cell_type": "markdown",
   "id": "a77c80ea-4963-45a4-afe2-a8e6828f41ce",
   "metadata": {
    "editable": true,
    "slideshow": {
     "slide_type": ""
    },
    "tags": []
   },
   "source": [
    "## Problem (graduate students): using JSON (2 points)\n",
    "\n",
    "The built-in `json` module can be used to read JSON files or strings. Read the provided string into a Python dictionary using the `json.loads` function. Here, we define the text data corresonding to a JSON file using Python's triple quote (`\"\"\"`) syntax, which allows us to create a string with multiple lines of text. After reading the JSON data into a dictionary, use dictionary indexing to access the string that describes the `age` variable.\n",
    "\n",
    "Run `help(json.loads)` or `json.loads?` to see information about the function in Jupyter."
   ]
  },
  {
   "cell_type": "markdown",
   "id": "3df165c6-5886-4ba2-abad-2d1cb952d3f9",
   "metadata": {
    "editable": true,
    "slideshow": {
     "slide_type": ""
    },
    "tags": []
   },
   "source": [
    "### Setup"
   ]
  },
  {
   "cell_type": "code",
   "execution_count": null,
   "id": "304f2511-45b3-4e22-82f5-5ec340d037d7",
   "metadata": {
    "editable": true,
    "slideshow": {
     "slide_type": ""
    },
    "tags": []
   },
   "outputs": [],
   "source": [
    "import json\n",
    "json_string = \"\"\"\n",
    "{\n",
    "  \"participant_id\": {\n",
    "    \"Description\": \"Participant identifier\"\n",
    "  },\n",
    "  \"age\": {\n",
    "    \"Description\": \"Age in years\"\n",
    "  },\n",
    "  \"sex\": {\n",
    "    \"Description\": \"Sex self-rated by participant, M for male/F for female\"\n",
    "  }\n",
    "}\n",
    "\"\"\"\n",
    "age_description = None"
   ]
  },
  {
   "cell_type": "markdown",
   "id": "ca9f20cd-7f5e-432a-86ca-ae500b7805b1",
   "metadata": {
    "editable": true,
    "slideshow": {
     "slide_type": ""
    },
    "tags": []
   },
   "source": [
    "### Answer"
   ]
  },
  {
   "cell_type": "code",
   "execution_count": null,
   "id": "ae924e68-de44-4e6d-8f6f-c4cb8152378e",
   "metadata": {
    "editable": true,
    "slideshow": {
     "slide_type": ""
    },
    "tags": []
   },
   "outputs": [],
   "source": [
    "# your code here"
   ]
  },
  {
   "cell_type": "markdown",
   "id": "9eff4f50-73be-42ef-b138-be647ca83350",
   "metadata": {
    "editable": true,
    "slideshow": {
     "slide_type": ""
    },
    "tags": []
   },
   "source": [
    "### Result"
   ]
  },
  {
   "cell_type": "code",
   "execution_count": null,
   "id": "5c09252c-3153-4bf3-8dd9-3626021ecfd3",
   "metadata": {
    "editable": true,
    "slideshow": {
     "slide_type": ""
    },
    "tags": []
   },
   "outputs": [
    {
     "name": "stdout",
     "output_type": "stream",
     "text": [
      "None\n"
     ]
    }
   ],
   "source": [
    "print(age_description)"
   ]
  },
  {
   "cell_type": "markdown",
   "id": "6b3db79e-2bc0-4e2c-a4bf-960b31362527",
   "metadata": {
    "editable": true,
    "slideshow": {
     "slide_type": ""
    },
    "tags": []
   },
   "source": [
    "## Problem (graduate students): using sets (2 points)\n",
    "\n",
    "Read about [sets](https://docs.python.org/3/tutorial/datastructures.html#sets) in the Python tutorial. Given two sets of participant identifiers, use the set operation `|` and the `in` keyword to test if participant `\"004\"` is in either set."
   ]
  },
  {
   "cell_type": "markdown",
   "id": "730dcbad-5cf9-4862-aef4-920efe9ee9fb",
   "metadata": {
    "editable": true,
    "slideshow": {
     "slide_type": ""
    },
    "tags": []
   },
   "source": [
    "### Setup"
   ]
  },
  {
   "cell_type": "code",
   "execution_count": null,
   "id": "aa7658ca-d7df-44c4-840b-311101aec224",
   "metadata": {
    "editable": false,
    "slideshow": {
     "slide_type": ""
    },
    "tags": []
   },
   "outputs": [],
   "source": [
    "participant_set1 = {\"001\", \"002\", \"003\"}\n",
    "participant_set2 = {\"004\", \"005\", \"006\"}\n",
    "is_004_included = None"
   ]
  },
  {
   "cell_type": "markdown",
   "id": "d453faee-ded8-46e1-a836-c8655904cdb2",
   "metadata": {
    "editable": true,
    "slideshow": {
     "slide_type": ""
    },
    "tags": []
   },
   "source": [
    "### Answer"
   ]
  },
  {
   "cell_type": "code",
   "execution_count": null,
   "id": "b9f3efe5-6b39-437b-b7aa-a11e58613e93",
   "metadata": {
    "editable": true,
    "slideshow": {
     "slide_type": ""
    },
    "tags": []
   },
   "outputs": [],
   "source": [
    "# your code here"
   ]
  },
  {
   "cell_type": "markdown",
   "id": "61f0d676-7b53-4710-8386-00d2b8eaaf64",
   "metadata": {
    "editable": true,
    "slideshow": {
     "slide_type": ""
    },
    "tags": []
   },
   "source": [
    "### Result"
   ]
  },
  {
   "cell_type": "code",
   "execution_count": null,
   "id": "6d7572b0-ecb0-4a3e-9ddc-c70581639f47",
   "metadata": {
    "editable": false,
    "slideshow": {
     "slide_type": ""
    },
    "tags": []
   },
   "outputs": [
    {
     "name": "stdout",
     "output_type": "stream",
     "text": [
      "None\n"
     ]
    }
   ],
   "source": [
    "print(is_004_included)"
   ]
  }
 ],
 "metadata": {
  "kernelspec": {
   "display_name": ".venv",
   "language": "python",
   "name": "python3"
  },
  "language_info": {
   "codemirror_mode": {
    "name": "ipython",
    "version": 3
   },
   "file_extension": ".py",
   "mimetype": "text/x-python",
   "name": "python",
   "nbconvert_exporter": "python",
   "pygments_lexer": "ipython3",
   "version": "3.12.8"
  }
 },
 "nbformat": 4,
 "nbformat_minor": 5
}
