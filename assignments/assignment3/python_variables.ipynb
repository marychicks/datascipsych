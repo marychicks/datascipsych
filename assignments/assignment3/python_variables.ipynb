{
 "cells": [
  {
   "cell_type": "markdown",
   "id": "a0672550-f7de-4b0f-b14c-8f1e2b29ef9e",
   "metadata": {
    "editable": true,
    "slideshow": {
     "slide_type": ""
    },
    "tags": []
   },
   "source": [
    "# Python variables\n",
    "\n",
    "First, we'll go over features of the basic Python language, before getting into tools for scientific computing and data science. We will first focus on how data can be stored in different kinds of Python variables."
   ]
  },
  {
   "cell_type": "markdown",
   "id": "eb43aad3-94c5-41b6-87e9-b83415c00193",
   "metadata": {
    "editable": true,
    "slideshow": {
     "slide_type": "slide"
    },
    "tags": []
   },
   "source": [
    "## Variables and Math\n",
    "Python can be used like a calculator, with the ability to store multiple named variables."
   ]
  },
  {
   "cell_type": "code",
   "execution_count": 1,
   "id": "9558636e-2832-4d9a-8cff-e3c1c1ff0515",
   "metadata": {
    "editable": true,
    "slideshow": {
     "slide_type": ""
    },
    "tags": []
   },
   "outputs": [
    {
     "data": {
      "text/plain": [
       "21"
      ]
     },
     "execution_count": 1,
     "metadata": {},
     "output_type": "execute_result"
    }
   ],
   "source": [
    "3 + 5 * 4 -2"
   ]
  },
  {
   "cell_type": "markdown",
   "id": "160af53d-35c8-436d-a909-51aa50adfee5",
   "metadata": {
    "editable": true,
    "slideshow": {
     "slide_type": "fragment"
    },
    "tags": []
   },
   "source": [
    "We can store variables using a name and an equal sign."
   ]
  },
  {
   "cell_type": "code",
   "execution_count": 2,
   "id": "65acef87-9d13-40a4-a29d-44d509c26d75",
   "metadata": {
    "editable": true,
    "slideshow": {
     "slide_type": ""
    },
    "tags": []
   },
   "outputs": [
    {
     "data": {
      "text/plain": [
       "22.24376731301939"
      ]
     },
     "execution_count": 2,
     "metadata": {},
     "output_type": "execute_result"
    }
   ],
   "source": [
    "weight_kg = 80.3\n",
    "height_m = 1.9\n",
    "weight_kg / height_m ** 2"
   ]
  },
  {
   "cell_type": "markdown",
   "id": "3df33885-c1a6-46e0-acc0-ecccd80a2c65",
   "metadata": {
    "editable": true,
    "slideshow": {
     "slide_type": "slide"
    },
    "tags": []
   },
   "source": [
    "Variable names can be almost anything, but they cannot start with a number (for example, `4vars` is invalid as a variable name).\n",
    "\n",
    "There's an art to naming variables to make them informative but not too hard to type. In Python, the usual style is to separate words with underscores (`_`)."
   ]
  },
  {
   "cell_type": "code",
   "execution_count": 3,
   "id": "3a3b1695-8e55-437e-8c52-b5a4473ae4ea",
   "metadata": {
    "editable": true,
    "slideshow": {
     "slide_type": ""
    },
    "tags": []
   },
   "outputs": [],
   "source": [
    "pid = '001'  # hard to understand unless you already know what it stands for\n",
    "participant_id = '001'  # clearer, though it will take longer to type\n",
    "ParticipantID = '001'  # not bad, but goes against standard Python style guidelines"
   ]
  },
  {
   "cell_type": "markdown",
   "id": "05fdc53d-cfc8-4983-a1fa-3bd6036c7d8f",
   "metadata": {
    "editable": true,
    "slideshow": {
     "slide_type": "slide"
    },
    "tags": []
   },
   "source": [
    "There are different types of data that we can store in variables, including:\n",
    "* Strings (text)\n",
    "* Integer numbers\n",
    "* Floating-point numbers (decimals)\n",
    "* Booleans (True or False)"
   ]
  },
  {
   "cell_type": "code",
   "execution_count": 4,
   "id": "aedad407-2957-4130-a821-4b50799d044e",
   "metadata": {
    "editable": true,
    "slideshow": {
     "slide_type": ""
    },
    "tags": []
   },
   "outputs": [],
   "source": [
    "name = \"John Doe\"\n",
    "age = 23\n",
    "height = 5.9\n",
    "study_complete = True"
   ]
  },
  {
   "cell_type": "markdown",
   "id": "32b1e7c6-409a-4d58-ac68-92e4f3c71e08",
   "metadata": {
    "editable": true,
    "slideshow": {
     "slide_type": "slide"
    },
    "tags": []
   },
   "source": [
    "In Jupyter, we can display the value of a variable just by writing its name at the end of a cell. Outside of Jupyter, we need to use `print`. The output is a little different between these methods, but they both show the value of the variable."
   ]
  },
  {
   "cell_type": "code",
   "execution_count": 5,
   "id": "32709844-89f0-4067-bf46-33cf6e145743",
   "metadata": {
    "editable": true,
    "slideshow": {
     "slide_type": ""
    },
    "tags": []
   },
   "outputs": [
    {
     "data": {
      "text/plain": [
       "'John Doe'"
      ]
     },
     "execution_count": 5,
     "metadata": {},
     "output_type": "execute_result"
    }
   ],
   "source": [
    "name"
   ]
  },
  {
   "cell_type": "code",
   "execution_count": 6,
   "id": "94026948-0949-40f7-af1b-9f42737e6b0b",
   "metadata": {
    "editable": true,
    "slideshow": {
     "slide_type": ""
    },
    "tags": []
   },
   "outputs": [
    {
     "name": "stdout",
     "output_type": "stream",
     "text": [
      "John Doe\n"
     ]
    }
   ],
   "source": [
    "print(name)"
   ]
  },
  {
   "cell_type": "markdown",
   "id": "b6dce888-6744-4d6c-9f27-3f35ee1549fd",
   "metadata": {
    "editable": true,
    "slideshow": {
     "slide_type": "slide"
    },
    "tags": []
   },
   "source": [
    "`print` is an example of a function. In Python (and other programming languages), functions take some sort of input and produce some sort of output. We can run them like so:\n",
    "\n",
    "```python\n",
    "output1, output2, ... = function_name(input1, input2, ...)\n",
    "```\n",
    "\n",
    "`print` is a simple function that takes some variable and displays a text version of it. It's often helpful when you need to see the value of a variable, and we'll use it in examples."
   ]
  },
  {
   "cell_type": "markdown",
   "id": "da87ed72-f4ff-41b6-982b-d6c0c91b80ac",
   "metadata": {
    "editable": true,
    "slideshow": {
     "slide_type": "fragment"
    },
    "tags": []
   },
   "source": [
    "There are many built-in functions in Python. For example, if I want to round a number, I can use the `round` function."
   ]
  },
  {
   "cell_type": "code",
   "execution_count": 7,
   "id": "94b2ca37-9ab6-432f-964b-77aa464fbb5b",
   "metadata": {
    "editable": true,
    "slideshow": {
     "slide_type": ""
    },
    "tags": []
   },
   "outputs": [
    {
     "data": {
      "text/plain": [
       "5.91"
      ]
     },
     "execution_count": 7,
     "metadata": {},
     "output_type": "execute_result"
    }
   ],
   "source": [
    "height_precise = 5.912\n",
    "height_rounded = round(height_precise, 2)\n",
    "height_rounded"
   ]
  },
  {
   "cell_type": "markdown",
   "id": "de18e5a5-af20-48f3-ad72-a8893486c3f2",
   "metadata": {
    "editable": true,
    "slideshow": {
     "slide_type": "slide"
    },
    "tags": []
   },
   "source": [
    "### F-strings\n",
    "Sometimes, it's helpful to construct a more complicated string from individual variables. We can use a feature called *f-strings* to do this."
   ]
  },
  {
   "cell_type": "code",
   "execution_count": 8,
   "id": "32fad909-a1f4-4f0f-8be2-846abde009ed",
   "metadata": {
    "editable": true,
    "slideshow": {
     "slide_type": ""
    },
    "tags": []
   },
   "outputs": [
    {
     "name": "stdout",
     "output_type": "stream",
     "text": [
      "Hello Mary\n"
     ]
    }
   ],
   "source": [
    "greeting = \"Hello\"\n",
    "user = \"Mary\"\n",
    "message = f\"{greeting} {user}\"\n",
    "print(message)"
   ]
  },
  {
   "cell_type": "markdown",
   "id": "9dd72266-1f6f-4a65-a37f-94d62fe38bfa",
   "metadata": {
    "editable": true,
    "slideshow": {
     "slide_type": ""
    },
    "tags": []
   },
   "source": [
    "You make an f-string by adding an \"f\" before the quotes that make up a string. Variable names can be placed in curly braces (`{}`) to place their contents at that point in the string."
   ]
  },
  {
   "cell_type": "markdown",
   "id": "9bfeece3-7319-46c9-bdf6-a611772302e8",
   "metadata": {
    "editable": true,
    "slideshow": {
     "slide_type": "slide"
    },
    "tags": []
   },
   "source": [
    "There are a lot of options for formatting variables as strings, making this method very flexible. We won't get into this much now, but it's helpful to know about. See the [Python tutorial](https://docs.python.org/3/tutorial/inputoutput.html#formatted-string-literals) for more information."
   ]
  },
  {
   "cell_type": "code",
   "execution_count": 9,
   "id": "f15fec90-2780-4b92-b54a-3e3ee1a9a8a3",
   "metadata": {
    "editable": true,
    "slideshow": {
     "slide_type": ""
    },
    "tags": []
   },
   "outputs": [
    {
     "name": "stdout",
     "output_type": "stream",
     "text": [
      "Patient John Doe: height=5.9, age=23\n"
     ]
    }
   ],
   "source": [
    "name = \"John Doe\"\n",
    "height = 5.9\n",
    "age = 23\n",
    "print(f\"Patient {name}: {height=}, {age=}\")"
   ]
  },
  {
   "cell_type": "markdown",
   "id": "784a3d52-7521-4783-b0f5-4709c4f60986",
   "metadata": {
    "editable": true,
    "slideshow": {
     "slide_type": "slide"
    },
    "tags": []
   },
   "source": [
    "### Data types\n",
    "Unlike some other languages, we don't have to declare what type of data we're using. After making a variable, we can check the data type using the `type` function."
   ]
  },
  {
   "cell_type": "code",
   "execution_count": 10,
   "id": "72fde1cb-91a3-4c13-a9dd-20a1b999d4b9",
   "metadata": {
    "editable": true,
    "slideshow": {
     "slide_type": ""
    },
    "tags": []
   },
   "outputs": [],
   "source": [
    "weight_kg = 60.3\n",
    "weight_kg_rounded = 60\n",
    "\n",
    "# get type of variables\n",
    "type_kg = type(weight_kg)\n",
    "type_kg_rounded = type(weight_kg_rounded)"
   ]
  },
  {
   "cell_type": "code",
   "execution_count": 11,
   "id": "e4d08eec-6200-438a-b348-3764178d6740",
   "metadata": {
    "editable": true,
    "slideshow": {
     "slide_type": ""
    },
    "tags": []
   },
   "outputs": [
    {
     "name": "stdout",
     "output_type": "stream",
     "text": [
      "With a decimal (60.3), we get: <class 'float'>\n"
     ]
    }
   ],
   "source": [
    "print(f\"With a decimal ({weight_kg}), we get: {type_kg}\")"
   ]
  },
  {
   "cell_type": "code",
   "execution_count": 12,
   "id": "8fe07940-4e79-49f3-b602-64fdf482f4c9",
   "metadata": {
    "editable": true,
    "slideshow": {
     "slide_type": ""
    },
    "tags": []
   },
   "outputs": [
    {
     "name": "stdout",
     "output_type": "stream",
     "text": [
      "with no decimal (60), we get: <class 'int'>\n"
     ]
    }
   ],
   "source": [
    "print(f\"with no decimal ({weight_kg_rounded}), we get: {type_kg_rounded}\")"
   ]
  },
  {
   "cell_type": "markdown",
   "id": "c69ac026-3bb3-4a92-96e2-63e9f8a4a773",
   "metadata": {
    "editable": true,
    "slideshow": {
     "slide_type": "slide"
    },
    "tags": []
   },
   "source": [
    "### Exercise: variables and math\n",
    "\n",
    "Make variables to represent a participant's identifier, `sub-001`, their accuracy on a test where they got 16 out of 24 items correct, and their age in years (23). Check the types of your variables, which should be `str`, `float`, and `int`. Round the accuracy score to two decimal places.\n",
    "\n",
    "#### Advanced\n",
    "\n",
    "Use an f-string to print the participant's data in this format: ```sub-001 (age=23): 67% correct```"
   ]
  },
  {
   "cell_type": "code",
   "execution_count": 13,
   "id": "65ffd814-6a56-4d4b-90b1-44d8971b1c93",
   "metadata": {},
   "outputs": [],
   "source": [
    "# answer here"
   ]
  },
  {
   "cell_type": "markdown",
   "id": "1d5b0457-d469-4892-8d27-422e45cc8245",
   "metadata": {
    "editable": true,
    "slideshow": {
     "slide_type": "slide"
    },
    "tags": []
   },
   "source": [
    "## Lists\n",
    "A common way to organize data is to place elements into a list. We can put any kind of data into a list."
   ]
  },
  {
   "cell_type": "code",
   "execution_count": 14,
   "id": "dd8b200a-5535-4654-a7f7-f5d0d9aea43c",
   "metadata": {
    "editable": true,
    "slideshow": {
     "slide_type": ""
    },
    "tags": []
   },
   "outputs": [],
   "source": [
    "participant_ids = [\"001\", \"002\", \"003\"]\n",
    "mixed_data = [\"John Doe\", 5.9, 23]"
   ]
  },
  {
   "cell_type": "markdown",
   "id": "f97a59e0-b415-4dad-94d4-293402d40cc2",
   "metadata": {
    "editable": true,
    "slideshow": {
     "slide_type": "fragment"
    },
    "tags": []
   },
   "source": [
    "To get the length of a list, use the `len` function."
   ]
  },
  {
   "cell_type": "code",
   "execution_count": 15,
   "id": "652ca7c8-15c5-4f4c-9f1f-d13198c3b7d3",
   "metadata": {
    "editable": true,
    "slideshow": {
     "slide_type": ""
    },
    "tags": []
   },
   "outputs": [
    {
     "data": {
      "text/plain": [
       "3"
      ]
     },
     "execution_count": 15,
     "metadata": {},
     "output_type": "execute_result"
    }
   ],
   "source": [
    "len(participant_ids)"
   ]
  },
  {
   "cell_type": "markdown",
   "id": "49c80572-d048-4c3f-9170-98874d4f0c89",
   "metadata": {
    "editable": true,
    "slideshow": {
     "slide_type": "slide"
    },
    "tags": []
   },
   "source": [
    "After creating a list, we can add elements to the end of it using `append`. "
   ]
  },
  {
   "cell_type": "code",
   "execution_count": 16,
   "id": "5895a55f-de71-45c2-8a12-90bf9f274f60",
   "metadata": {
    "editable": true,
    "slideshow": {
     "slide_type": ""
    },
    "tags": []
   },
   "outputs": [
    {
     "name": "stdout",
     "output_type": "stream",
     "text": [
      "['001', '002', '003', '004']\n"
     ]
    }
   ],
   "source": [
    "participant_ids.append(\"004\")\n",
    "print(participant_ids)"
   ]
  },
  {
   "cell_type": "markdown",
   "id": "4aec2dac-5f0c-426c-983e-8f1fb76ef370",
   "metadata": {
    "editable": true,
    "slideshow": {
     "slide_type": "fragment"
    },
    "tags": []
   },
   "source": [
    "We just used a special type of function called a *method*. Methods work like functions, but are attached to *objects*. Everything in Python is an object, and objects have attributes that are accessed using a `.` Some of these attributes, like `append`, are methods that we can call to work with an object.\n",
    "\n",
    "Use the `help` function with any Python object to see what methods are associated with that object.\n",
    "\n",
    "```\n",
    "help(participant_ids)\n",
    "```"
   ]
  },
  {
   "cell_type": "markdown",
   "id": "04ba5a27-a102-4612-afdc-e0fd6756f200",
   "metadata": {
    "editable": true,
    "slideshow": {
     "slide_type": "slide"
    },
    "tags": []
   },
   "source": [
    "Lists can be joined together using `+`."
   ]
  },
  {
   "cell_type": "code",
   "execution_count": 17,
   "id": "3bdf8fea-74e1-40e7-aae0-a9de393b8859",
   "metadata": {
    "editable": true,
    "slideshow": {
     "slide_type": ""
    },
    "tags": []
   },
   "outputs": [
    {
     "name": "stdout",
     "output_type": "stream",
     "text": [
      "[1, 2, 3, 4, 5, 6]\n"
     ]
    }
   ],
   "source": [
    "l1 = [1, 2, 3]\n",
    "l2 = [4, 5, 6]\n",
    "print(l1 + l2)"
   ]
  },
  {
   "cell_type": "markdown",
   "id": "2c4ea2dc-f1df-4a1b-8648-f439781e4bb3",
   "metadata": {
    "editable": true,
    "slideshow": {
     "slide_type": "fragment"
    },
    "tags": []
   },
   "source": [
    "Note that the `+` is used a different way with lists than it is with numbers. This is called *operator overloading*. If you try to mix numbers and lists, you'll get an error."
   ]
  },
  {
   "cell_type": "code",
   "execution_count": 18,
   "id": "9bbbb8f2-7e29-4d73-a660-64e2b2cf1a77",
   "metadata": {
    "editable": true,
    "slideshow": {
     "slide_type": ""
    },
    "tags": []
   },
   "outputs": [],
   "source": [
    "# invalid (try it!): 4 + [1, 2]"
   ]
  },
  {
   "cell_type": "markdown",
   "id": "a33a0bf8-85c8-44b6-9100-12684c3e08e6",
   "metadata": {
    "editable": true,
    "slideshow": {
     "slide_type": "slide"
    },
    "tags": []
   },
   "source": [
    "### Indexing\n",
    "After we create a list, we can access elements of that list using *indexing*. Indexing lets us access data based on its position in the list.\n",
    "\n",
    "A slightly confusing thing about Python (and many programming languages) is that the first index is 0, and it counts up from there. So, the first element is at 0, the second element is at 1, etc."
   ]
  },
  {
   "cell_type": "code",
   "execution_count": 19,
   "id": "031d7a44-2b14-43f5-93d1-cd2cadd8b7dc",
   "metadata": {
    "editable": true,
    "slideshow": {
     "slide_type": ""
    },
    "tags": []
   },
   "outputs": [
    {
     "name": "stdout",
     "output_type": "stream",
     "text": [
      "['001', '002', '003', '004']\n"
     ]
    }
   ],
   "source": [
    "print(participant_ids)"
   ]
  },
  {
   "cell_type": "code",
   "execution_count": 20,
   "id": "945f70bc-a509-430e-b3bf-c61ecd075a22",
   "metadata": {
    "editable": true,
    "slideshow": {
     "slide_type": ""
    },
    "tags": []
   },
   "outputs": [
    {
     "name": "stdout",
     "output_type": "stream",
     "text": [
      "001\n"
     ]
    }
   ],
   "source": [
    "print(participant_ids[0])"
   ]
  },
  {
   "cell_type": "code",
   "execution_count": 21,
   "id": "8680a631-3b25-4e7e-bf3d-c0653aa9deab",
   "metadata": {
    "editable": true,
    "slideshow": {
     "slide_type": ""
    },
    "tags": []
   },
   "outputs": [
    {
     "name": "stdout",
     "output_type": "stream",
     "text": [
      "002\n"
     ]
    }
   ],
   "source": [
    "print(participant_ids[1])"
   ]
  },
  {
   "cell_type": "markdown",
   "id": "22bea9b5-f433-43f6-9f68-979327312026",
   "metadata": {
    "editable": true,
    "slideshow": {
     "slide_type": "slide"
    },
    "tags": []
   },
   "source": [
    "Indexing can be used to change elements of the list. We do this by assigning part of the list to something new."
   ]
  },
  {
   "cell_type": "code",
   "execution_count": 22,
   "id": "fd1550e0-66ca-4a96-867b-423b28fb5cc6",
   "metadata": {
    "editable": true,
    "slideshow": {
     "slide_type": ""
    },
    "tags": []
   },
   "outputs": [
    {
     "name": "stdout",
     "output_type": "stream",
     "text": [
      "['1a', '1b', '2a', '2b']\n"
     ]
    }
   ],
   "source": [
    "conditions = [\"1a\", \"1b\", \"2a\", \"2b\"]\n",
    "print(conditions)"
   ]
  },
  {
   "cell_type": "code",
   "execution_count": 23,
   "id": "bca622a5-e9e0-44e1-868f-cd14236c3ce6",
   "metadata": {
    "editable": true,
    "slideshow": {
     "slide_type": "fragment"
    },
    "tags": []
   },
   "outputs": [
    {
     "name": "stdout",
     "output_type": "stream",
     "text": [
      "['1c', '1b', '2a', '2b']\n"
     ]
    }
   ],
   "source": [
    "conditions[0] = \"1c\"\n",
    "print(conditions)"
   ]
  },
  {
   "cell_type": "markdown",
   "id": "2b671b7a-05b9-4089-baa6-262b2e27fee0",
   "metadata": {
    "editable": true,
    "slideshow": {
     "slide_type": "slide"
    },
    "tags": []
   },
   "source": [
    "### Exercise: making lists\n",
    "Make a list of memory scores for different participants: 8, 3, 14, 10. Using indexing to get the score for the third participant in the list.\n",
    "\n",
    "Add one more participant's score (15) to the list using the `append` method.\n",
    "\n",
    "Change the second participant's score to 9."
   ]
  },
  {
   "cell_type": "code",
   "execution_count": 4,
   "id": "72af38c6-904c-488b-93dc-c1271bf31cc3",
   "metadata": {
    "editable": true,
    "slideshow": {
     "slide_type": ""
    },
    "tags": []
   },
   "outputs": [
    {
     "name": "stdout",
     "output_type": "stream",
     "text": [
      "[8, 3, 14, 10]\n",
      "14\n",
      "[8, 3, 14, 10, 15]\n",
      "[8, 9, 14, 10, 15]\n"
     ]
    }
   ],
   "source": [
    "scores = [8,3,14,10]\n",
    "print(scores)\n",
    "print(scores[2])\n",
    "scores.append(15)\n",
    "print (scores)\n",
    "scores [1] = 9\n",
    "print(scores)"
   ]
  },
  {
   "cell_type": "markdown",
   "id": "14e3dddb-3309-44c3-ab15-f5f70ff5643b",
   "metadata": {
    "editable": true,
    "slideshow": {
     "slide_type": "slide"
    },
    "tags": []
   },
   "source": [
    "### Slicing\n",
    "Besides accessing one element at a time, we can also access a range of elements (called a *slice*) using the colon operator (`:`).\n",
    "\n",
    "Slices usually just have a start index and a finish index, like this:\n",
    "```\n",
    "my_list[start:finish]\n",
    "```\n",
    "\n",
    "The finish is *non-inclusive*. For example, `[0:2]` will get the first two elements."
   ]
  },
  {
   "cell_type": "code",
   "execution_count": 25,
   "id": "b47daf95-d24d-4675-8d51-500418c72d4f",
   "metadata": {
    "editable": true,
    "slideshow": {
     "slide_type": ""
    },
    "tags": []
   },
   "outputs": [
    {
     "name": "stdout",
     "output_type": "stream",
     "text": [
      "['001', '002']\n"
     ]
    }
   ],
   "source": [
    "print(participant_ids[0:2])"
   ]
  },
  {
   "cell_type": "markdown",
   "id": "56016b05-3a71-40b9-9f54-4e6cf0713dff",
   "metadata": {
    "editable": true,
    "slideshow": {
     "slide_type": "slide"
    },
    "tags": []
   },
   "source": [
    "This picture summarizes how things work:\n",
    "```\n",
    "list:  [  1,  2,  3,  4,  5  ]\n",
    "index: [  0   1   2   3   4  ]\n",
    "slice: [0   1   2   3   4   5]\n",
    "```\n",
    "The index row shows the index to get individual elements of the list. For example, if we access index 2, we'll get 3."
   ]
  },
  {
   "cell_type": "code",
   "execution_count": 26,
   "id": "a3c89304-8e80-48cd-afc2-1ab0eca6052b",
   "metadata": {
    "editable": true,
    "slideshow": {
     "slide_type": ""
    },
    "tags": []
   },
   "outputs": [
    {
     "name": "stdout",
     "output_type": "stream",
     "text": [
      "3\n"
     ]
    }
   ],
   "source": [
    "l = [1, 2, 3, 4, 5]\n",
    "print(l[2])"
   ]
  },
  {
   "cell_type": "markdown",
   "id": "a875feae-2ffd-4b0d-b557-87069206b8fc",
   "metadata": {
    "editable": true,
    "slideshow": {
     "slide_type": "fragment"
    },
    "tags": []
   },
   "source": [
    "The slice row shows how slicing works. You can think of the slice indices as being sort of between the elements of the list. When you slice a list, you'll get back everything between the slice indices."
   ]
  },
  {
   "cell_type": "code",
   "execution_count": 27,
   "id": "c6364550-0b66-4c2d-aafe-0c18d91d7f5f",
   "metadata": {
    "editable": true,
    "slideshow": {
     "slide_type": ""
    },
    "tags": []
   },
   "outputs": [
    {
     "name": "stdout",
     "output_type": "stream",
     "text": [
      "[1, 2, 3]\n",
      "[4, 5]\n"
     ]
    }
   ],
   "source": [
    "print(l[0:3])\n",
    "print(l[3:5])"
   ]
  },
  {
   "cell_type": "markdown",
   "id": "852c4529-934b-4831-baae-4e39e4a4e6ed",
   "metadata": {
    "editable": true,
    "slideshow": {
     "slide_type": "slide"
    },
    "tags": []
   },
   "source": [
    "If either the start or finish of a slice is omitted, the corresponding end of the list will be used."
   ]
  },
  {
   "cell_type": "code",
   "execution_count": 28,
   "id": "2f510d7c-f1d5-41d5-84ed-9b8884a2fdc1",
   "metadata": {
    "editable": true,
    "slideshow": {
     "slide_type": ""
    },
    "tags": []
   },
   "outputs": [
    {
     "name": "stdout",
     "output_type": "stream",
     "text": [
      "['001', '002']\n"
     ]
    }
   ],
   "source": [
    "print(participant_ids[:2])  # from the start until 2"
   ]
  },
  {
   "cell_type": "code",
   "execution_count": 29,
   "id": "39968278-94c5-4389-a774-ad5b167aca97",
   "metadata": {
    "editable": true,
    "slideshow": {
     "slide_type": ""
    },
    "tags": []
   },
   "outputs": [
    {
     "name": "stdout",
     "output_type": "stream",
     "text": [
      "['002', '003', '004']\n"
     ]
    }
   ],
   "source": [
    "print(participant_ids[1:])  # from 1 until the end"
   ]
  },
  {
   "cell_type": "markdown",
   "id": "c575afcf-260a-4b98-9a76-c773299af9db",
   "metadata": {
    "editable": true,
    "slideshow": {
     "slide_type": "slide"
    },
    "tags": []
   },
   "source": [
    "The way indexing and slicing work might seem weird, but it has some nice properties. For example, if we have a list of 4 elements:"
   ]
  },
  {
   "cell_type": "code",
   "execution_count": 30,
   "id": "91df8664-c6c0-48c2-a80e-05b28143dd41",
   "metadata": {
    "editable": true,
    "slideshow": {
     "slide_type": ""
    },
    "tags": []
   },
   "outputs": [],
   "source": [
    "new_list = [1, 2, 4, 8]"
   ]
  },
  {
   "cell_type": "markdown",
   "id": "d4adaf99-48aa-4aca-8d61-18f3102f40fd",
   "metadata": {
    "editable": true,
    "slideshow": {
     "slide_type": "fragment"
    },
    "tags": []
   },
   "source": [
    "We can split it in half in an intuitive way, where the index 2 marks the center of the list:"
   ]
  },
  {
   "cell_type": "code",
   "execution_count": 31,
   "id": "764c8f52-2e62-4cc8-975b-c6c8671dbfb7",
   "metadata": {
    "editable": true,
    "slideshow": {
     "slide_type": ""
    },
    "tags": []
   },
   "outputs": [
    {
     "name": "stdout",
     "output_type": "stream",
     "text": [
      "[1, 2]\n",
      "[4, 8]\n"
     ]
    }
   ],
   "source": [
    "print(new_list[:2])  # first half\n",
    "print(new_list[2:])  # second half"
   ]
  },
  {
   "cell_type": "markdown",
   "id": "cf14a042-e938-4327-8083-6b1d16bcc6f7",
   "metadata": {
    "editable": true,
    "slideshow": {
     "slide_type": "slide"
    },
    "tags": []
   },
   "source": [
    "### Negative indices\n",
    "In addition to the usual indices, which are non-negative integers (0, 1, 2, etc.), we can use negative indices instead, which count from the *end* of the list instead of the start.\n",
    "\n",
    "```\n",
    "list:  [   1,  2,  3,  4,  5   ]\n",
    "index: [  -5  -4  -3  -2  -1   ]\n",
    "slice: [-5  -4  -3  -2  -1   0 ]\n",
    "```"
   ]
  },
  {
   "cell_type": "code",
   "execution_count": 23,
   "id": "4a289eba-3852-4cd7-a1a8-27578fa1edf8",
   "metadata": {
    "editable": true,
    "slideshow": {
     "slide_type": ""
    },
    "tags": []
   },
   "outputs": [
    {
     "name": "stdout",
     "output_type": "stream",
     "text": [
      "5\n",
      "[1, 2]\n"
     ]
    }
   ],
   "source": [
    "l = [1, 2, 3, 4, 5]\n",
    "print(l[-1])\n",
    "print(l[-5:-3])"
   ]
  },
  {
   "cell_type": "markdown",
   "id": "19d79e5f-b0cc-4697-9310-fd8ab3e9e239",
   "metadata": {
    "editable": true,
    "slideshow": {
     "slide_type": "slide"
    },
    "tags": []
   },
   "source": [
    "### Lists of lists\n",
    "Lists can hold any type of data. This means we can even make lists of lists."
   ]
  },
  {
   "cell_type": "code",
   "execution_count": 33,
   "id": "2c3ebf45-18fd-4b42-8c8b-b27bb55b671e",
   "metadata": {
    "editable": true,
    "slideshow": {
     "slide_type": ""
    },
    "tags": []
   },
   "outputs": [],
   "source": [
    "participant_groups = [[\"001\", \"003\", \"005\"], [\"002\", \"004\", \"006\"]]"
   ]
  },
  {
   "cell_type": "markdown",
   "id": "412ee60b-af2a-48bb-9345-0b7b9b5d4433",
   "metadata": {
    "editable": true,
    "slideshow": {
     "slide_type": "fragment"
    },
    "tags": []
   },
   "source": [
    "We can then put together multiple indices. For example, to get the third entry in the second group:"
   ]
  },
  {
   "cell_type": "code",
   "execution_count": 34,
   "id": "6a4a7375-eb6a-4fa4-959e-504a8ecb1ee6",
   "metadata": {
    "editable": true,
    "slideshow": {
     "slide_type": ""
    },
    "tags": []
   },
   "outputs": [
    {
     "name": "stdout",
     "output_type": "stream",
     "text": [
      "006\n"
     ]
    }
   ],
   "source": [
    "print(participant_groups[1][2])"
   ]
  },
  {
   "cell_type": "markdown",
   "id": "7c205a30-ac78-4177-af42-4c460c61db79",
   "metadata": {
    "editable": true,
    "slideshow": {
     "slide_type": "fragment"
    },
    "tags": []
   },
   "source": [
    "Slicing and indexing work the same way no matter what type of data we have in the list, so we can use it for lists of lists too."
   ]
  },
  {
   "cell_type": "code",
   "execution_count": 35,
   "id": "101b66fc-7085-4e62-a14d-53fe4674c5a3",
   "metadata": {
    "editable": true,
    "slideshow": {
     "slide_type": ""
    },
    "tags": []
   },
   "outputs": [
    {
     "name": "stdout",
     "output_type": "stream",
     "text": [
      "['001', '003', '005']\n",
      "['003', '005']\n"
     ]
    }
   ],
   "source": [
    "print(participant_groups[0])\n",
    "print(participant_groups[0][1:])"
   ]
  },
  {
   "cell_type": "markdown",
   "id": "86b52b48-ddc8-4d74-a61f-f74b8d911d4e",
   "metadata": {
    "editable": true,
    "slideshow": {
     "slide_type": "slide"
    },
    "tags": []
   },
   "source": [
    "### Exercise: lists, indexing, and slicing\n",
    "Create a list of words (for a hypothetical memory experiment) in this order: *hollow*, *pupil*, *fountain*, *piano*.\n",
    "\n",
    "Then using indexing and slicing to:\n",
    "* Get the second word in the list\n",
    "* Get the last item in the list using negative indices\n",
    "* Get the first three items in the list using slicing\n",
    "* Get the last two items using slicing with negative indices\n",
    "\n",
    "#### Advanced\n",
    "Slicing can take another form with three numbers, to indicate the spacing to use. This form is written like `start:finish:step`. Use this method to get every other item in the list."
   ]
  },
  {
   "cell_type": "code",
   "execution_count": 32,
   "id": "a430fd6e-0587-462c-9c6d-bfe611c59ba8",
   "metadata": {},
   "outputs": [
    {
     "name": "stdout",
     "output_type": "stream",
     "text": [
      "pupil\n",
      "piano\n",
      "['hollow', 'pupil', 'fountain']\n",
      "['fountain', 'piano']\n",
      "['hollow', 'fountain']\n"
     ]
    }
   ],
   "source": [
    "words = [\"hollow\", \"pupil\", \"fountain\",\"piano\"]\n",
    "print(words[1])\n",
    "print(words[-1])\n",
    "print(words[:3])\n",
    "print(words[-2:])\n",
    "print(words[::2])"
   ]
  },
  {
   "cell_type": "markdown",
   "id": "bf88da84-5144-4208-9641-33415b805039",
   "metadata": {
    "editable": true,
    "slideshow": {
     "slide_type": "slide"
    },
    "tags": []
   },
   "source": [
    "## Tuples\n",
    "\n",
    "Tuples are similar to lists, in that they store data by position, but once they are created they cannot be changed. Data structures that cannot be changed are called *immutable*.\n",
    "\n",
    "Tuples are often used as inputs and outputs to functions. More on that later.\n",
    "\n",
    "The syntax for creating tuples is similar to lists, but using parentheses instead of square braces."
   ]
  },
  {
   "cell_type": "code",
   "execution_count": 37,
   "id": "6edde821-9cf5-438b-8e40-454b145f5695",
   "metadata": {
    "editable": true,
    "slideshow": {
     "slide_type": ""
    },
    "tags": []
   },
   "outputs": [
    {
     "name": "stdout",
     "output_type": "stream",
     "text": [
      "(1, 2, 3)\n",
      "('a', 'b', 'c')\n"
     ]
    }
   ],
   "source": [
    "my_tuple = (1, 2, 3)\n",
    "other_tuple = ('a', 'b', 'c')\n",
    "print(my_tuple)\n",
    "print(other_tuple)"
   ]
  },
  {
   "cell_type": "markdown",
   "id": "85af3aa6-4a67-444f-ab73-db3ae9c4be7d",
   "metadata": {
    "editable": true,
    "slideshow": {
     "slide_type": "slide"
    },
    "tags": []
   },
   "source": [
    "Tuples don't actually require the parentheses; just the commas are sufficient to indicate a tuple."
   ]
  },
  {
   "cell_type": "code",
   "execution_count": 38,
   "id": "6d04fa71-6020-4df0-afa1-2012e4790826",
   "metadata": {
    "editable": true,
    "slideshow": {
     "slide_type": ""
    },
    "tags": []
   },
   "outputs": [],
   "source": [
    "new_tuple = 4, 5, 6"
   ]
  },
  {
   "cell_type": "markdown",
   "id": "a2f7d44a-37b8-4ed9-825a-97f5f2217ae4",
   "metadata": {
    "editable": true,
    "slideshow": {
     "slide_type": "fragment"
    },
    "tags": []
   },
   "source": [
    "You can have a tuple with only one element, if you use a trailing comma."
   ]
  },
  {
   "cell_type": "code",
   "execution_count": 39,
   "id": "645437f5-343f-4e95-ab02-6d7002a25243",
   "metadata": {
    "editable": true,
    "slideshow": {
     "slide_type": ""
    },
    "tags": []
   },
   "outputs": [],
   "source": [
    "one_item_tuple = 7,"
   ]
  },
  {
   "cell_type": "markdown",
   "id": "a83a4126-d889-4010-bcf8-d8e89fdf01a0",
   "metadata": {
    "editable": true,
    "slideshow": {
     "slide_type": ""
    },
    "tags": []
   },
   "source": [
    "Otherwise, this would just be a 7."
   ]
  },
  {
   "cell_type": "markdown",
   "id": "7aa51fb5-2bc7-43f4-9a0a-8f6eaac4a9c5",
   "metadata": {
    "editable": true,
    "slideshow": {
     "slide_type": "slide"
    },
    "tags": []
   },
   "source": [
    "Tuples are indexed and sliced in the same way as lists."
   ]
  },
  {
   "cell_type": "code",
   "execution_count": 40,
   "id": "88f856c3-8943-43a9-a03c-ae51190fd46c",
   "metadata": {
    "editable": true,
    "slideshow": {
     "slide_type": ""
    },
    "tags": []
   },
   "outputs": [
    {
     "name": "stdout",
     "output_type": "stream",
     "text": [
      "2\n",
      "(2, 3)\n"
     ]
    }
   ],
   "source": [
    "numbers = (1, 2, 3)\n",
    "print(numbers[1])\n",
    "print(numbers[1:])"
   ]
  },
  {
   "cell_type": "markdown",
   "id": "f69be3a6-63a0-42bd-b289-cdeeb0a3710e",
   "metadata": {
    "editable": true,
    "slideshow": {
     "slide_type": ""
    },
    "tags": []
   },
   "source": [
    "Unlike lists, tuples cannot be changed once they are created."
   ]
  },
  {
   "cell_type": "markdown",
   "id": "bc4dba49-02b8-426b-9e4a-273fcd57d1e0",
   "metadata": {
    "editable": true,
    "slideshow": {
     "slide_type": "slide"
    },
    "tags": []
   },
   "source": [
    "## Strings\n",
    "\n",
    "We saw before that we can store text data in strings. Strings are a lot like lists and tuples, because they are all considered *iterables*."
   ]
  },
  {
   "cell_type": "code",
   "execution_count": 41,
   "id": "51c36738-de64-4395-84ad-a9d5bd490f43",
   "metadata": {
    "editable": true,
    "slideshow": {
     "slide_type": ""
    },
    "tags": []
   },
   "outputs": [
    {
     "name": "stdout",
     "output_type": "stream",
     "text": [
      "11\n",
      "hello\n"
     ]
    }
   ],
   "source": [
    "message = \"hello world\"\n",
    "print(len(message))  # len works the same as for lists\n",
    "print(message[:5])  # slicing can get used to get subsets of strings"
   ]
  },
  {
   "cell_type": "markdown",
   "id": "8188969a-e4aa-4dd2-a19f-287cfd1fb8db",
   "metadata": {
    "editable": true,
    "slideshow": {
     "slide_type": "fragment"
    },
    "tags": []
   },
   "source": [
    "Like lists, strings can be concatenated."
   ]
  },
  {
   "cell_type": "code",
   "execution_count": 42,
   "id": "ccb00114-4245-4838-9fca-21c19e503c2c",
   "metadata": {
    "editable": true,
    "slideshow": {
     "slide_type": ""
    },
    "tags": []
   },
   "outputs": [
    {
     "name": "stdout",
     "output_type": "stream",
     "text": [
      "hello world\n"
     ]
    }
   ],
   "source": [
    "word1 = \"hello\"\n",
    "word2 = \"world\"\n",
    "print(word1 + \" \" + word2)"
   ]
  },
  {
   "cell_type": "markdown",
   "id": "5a63022c-73c5-4831-a815-441cabddcad2",
   "metadata": {
    "editable": true,
    "slideshow": {
     "slide_type": "slide"
    },
    "tags": []
   },
   "source": [
    "### Exercise: tuples and strings\n",
    "Make a strings by contenating two strings together. The first part of the string will be `\"sub-\"`, and the second part will be `\"001\"`. Place this string into a tuple.\n",
    "\n",
    "#### Advanced\n",
    "After making your tuple, try adding another element to it. What happens?"
   ]
  },
  {
   "cell_type": "code",
   "execution_count": null,
   "id": "ac7c41d2-0118-4a1d-9760-e08fba0abbce",
   "metadata": {},
   "outputs": [],
   "source": [
    "word1 = \"sub-\"\n",
    "word2 = \"001\"\n",
    "word3 = word1 + word2\n",
    "tuple = word3\n"
   ]
  },
  {
   "cell_type": "markdown",
   "id": "2b077e93-8e79-4218-9f3c-a1665de9c420",
   "metadata": {
    "editable": true,
    "slideshow": {
     "slide_type": "slide"
    },
    "tags": []
   },
   "source": [
    "## Dictionaries\n",
    "\n",
    "Dictionaries (or dicts, for short) contain *mappings*. Lists store data by position in the list, while dicts store data in terms of *keys*. This is often useful to label data with strings.\n",
    "\n",
    "Dicts are specified using curly braces (`{}`), with key-value pairs separated by colons, like\n",
    "\n",
    "```python\n",
    "{key1: value1, key2: value2}\n",
    "```\n",
    "\n",
    "For example, we could have a dict that stores data for each of a set of participants."
   ]
  },
  {
   "cell_type": "code",
   "execution_count": 44,
   "id": "29cd64a5-47c4-4bb4-8e39-86c8f959b568",
   "metadata": {
    "editable": true,
    "slideshow": {
     "slide_type": ""
    },
    "tags": []
   },
   "outputs": [
    {
     "name": "stdout",
     "output_type": "stream",
     "text": [
      "{'sub-001': 23, 'sub-002': 29}\n"
     ]
    }
   ],
   "source": [
    "age = {\"sub-001\": 23, \"sub-002\": 29}\n",
    "print(age)"
   ]
  },
  {
   "cell_type": "markdown",
   "id": "3ecbc183-6fc1-4995-a40a-c0f6a952ca3a",
   "metadata": {
    "editable": true,
    "slideshow": {
     "slide_type": "fragment"
    },
    "tags": []
   },
   "source": [
    "We can index data using the *key* to get the corresponding *value*."
   ]
  },
  {
   "cell_type": "code",
   "execution_count": 45,
   "id": "39b32367-455a-4d4c-9307-05c4b2e4fb41",
   "metadata": {
    "editable": true,
    "slideshow": {
     "slide_type": ""
    },
    "tags": []
   },
   "outputs": [
    {
     "name": "stdout",
     "output_type": "stream",
     "text": [
      "29\n"
     ]
    }
   ],
   "source": [
    "print(age[\"sub-002\"])"
   ]
  },
  {
   "cell_type": "markdown",
   "id": "4ee4c1a8-6a2e-4d8a-a348-304fc8c30af2",
   "metadata": {
    "editable": true,
    "slideshow": {
     "slide_type": "slide"
    },
    "tags": []
   },
   "source": [
    "Dictionaries can contain any mapping between keys and values, as long as the keys are *immutable*. This means you can't use things like lists as keys, because lists can be changed."
   ]
  },
  {
   "cell_type": "code",
   "execution_count": 46,
   "id": "f262586d-66f2-4485-ba01-d0fcdf5bd65b",
   "metadata": {
    "editable": true,
    "slideshow": {
     "slide_type": ""
    },
    "tags": []
   },
   "outputs": [
    {
     "name": "stdout",
     "output_type": "stream",
     "text": [
      "{1: 'A', 2: 'B'}\n",
      "{1.1: 'A.A', 2.2: 'B.B'}\n"
     ]
    }
   ],
   "source": [
    "print({1: \"A\", 2: \"B\"})\n",
    "print({1.1: \"A.A\", 2.2: \"B.B\"})\n",
    "# not valid (try it!):  {[1, 2, 3]: [\"A\", \"B\", \"C\"]}"
   ]
  },
  {
   "cell_type": "markdown",
   "id": "9a380772-b46b-489e-8cc7-928513eadfa9",
   "metadata": {
    "editable": true,
    "slideshow": {
     "slide_type": "slide"
    },
    "tags": []
   },
   "source": [
    "Values can be anything, including dicts, so you can make dicts of dicts."
   ]
  },
  {
   "cell_type": "code",
   "execution_count": 47,
   "id": "f368124e-c96c-4cf7-b193-8976a74db285",
   "metadata": {
    "editable": true,
    "slideshow": {
     "slide_type": ""
    },
    "tags": []
   },
   "outputs": [],
   "source": [
    "holidays = {\n",
    "    \"new_years\": {\"month\": \"Jan\", \"day\": 1},\n",
    "    \"mlk_day\": {\"month\": \"Jan\", \"day\": 15},\n",
    "}"
   ]
  },
  {
   "cell_type": "markdown",
   "id": "b0ced418-71c1-4f97-b76a-eb1fd1bd8b7a",
   "metadata": {
    "editable": true,
    "slideshow": {
     "slide_type": ""
    },
    "tags": []
   },
   "source": [
    "Note that we can split dictionary statements over multiple lines for readibility."
   ]
  },
  {
   "cell_type": "markdown",
   "id": "ae2d3a78-fb99-4d5b-aa93-55492cca6541",
   "metadata": {
    "editable": true,
    "slideshow": {
     "slide_type": "slide"
    },
    "tags": []
   },
   "source": [
    "After creating a dict, you can add more keys using an assignment statement."
   ]
  },
  {
   "cell_type": "code",
   "execution_count": 48,
   "id": "47e0433d-8188-425a-aefd-fb97ba77c308",
   "metadata": {
    "editable": true,
    "slideshow": {
     "slide_type": ""
    },
    "tags": []
   },
   "outputs": [
    {
     "name": "stdout",
     "output_type": "stream",
     "text": [
      "{'sub-001': 23, 'sub-002': 29, 'sub-003': 25}\n"
     ]
    }
   ],
   "source": [
    "age = {\"sub-001\": 23, \"sub-002\": 29}\n",
    "age[\"sub-003\"] = 25\n",
    "print(age)"
   ]
  },
  {
   "cell_type": "markdown",
   "id": "3d48aa1b-d598-4b60-bef0-91f9abedb7c9",
   "metadata": {
    "editable": true,
    "slideshow": {
     "slide_type": "slide"
    },
    "tags": []
   },
   "source": [
    "### Exercise: dictionaries\n",
    "\n",
    "Create a dict of participant memory scores. The participant identifiers were *01*, *02*, and *03*, and they remembered 9, 13, and 10 words each, respectively.\n",
    "\n",
    "After making this dict, get the memory score for participant *03*.\n",
    "\n",
    "#### Advanced\n",
    "Use a dictionary of dictionaries to store multiples pieces of information for multiple participants. Participant *01* was age 23 and had a memory score of 9. Participant *02* was age 29 and had a memory score of 13."
   ]
  },
  {
   "cell_type": "code",
   "execution_count": null,
   "id": "4c2451ec-9b57-4aa1-b260-c51b28872b58",
   "metadata": {},
   "outputs": [
    {
     "data": {
      "text/plain": [
       "10"
      ]
     },
     "execution_count": 43,
     "metadata": {},
     "output_type": "execute_result"
    }
   ],
   "source": [
    "scores = {\"pid-01\": 9,\"pid-02\": 13,\"pid-03\":10}\n",
    "scores[\"pid-03\"]\n",
    "data = {\n",
    "    \"01\": {\"age\":23, \"score\":9}\n",
    "    \n",
    "}"
   ]
  },
  {
   "cell_type": "markdown",
   "id": "713d9bfa-94ea-4fb8-95c0-ea95d96f3d02",
   "metadata": {
    "editable": true,
    "slideshow": {
     "slide_type": "slide"
    },
    "tags": []
   },
   "source": [
    "## Review"
   ]
  },
  {
   "cell_type": "markdown",
   "id": "e72ae0a7-2ca3-44da-a8db-876fb3e6f890",
   "metadata": {
    "editable": true,
    "slideshow": {
     "slide_type": ""
    },
    "tags": []
   },
   "source": [
    "We can assign simple variables to store numeric and text data."
   ]
  },
  {
   "cell_type": "code",
   "execution_count": 50,
   "id": "95d5b605-538e-4654-b0a4-79dabe025243",
   "metadata": {
    "editable": true,
    "slideshow": {
     "slide_type": ""
    },
    "tags": []
   },
   "outputs": [],
   "source": [
    "height_m = 1.9\n",
    "participant_id = \"sub-002\""
   ]
  },
  {
   "cell_type": "markdown",
   "id": "97a6f397-104d-461a-baf4-0206763458b3",
   "metadata": {
    "editable": true,
    "slideshow": {
     "slide_type": "fragment"
    },
    "tags": []
   },
   "source": [
    "Lists and tuples can be used to store sequences of data points."
   ]
  },
  {
   "cell_type": "code",
   "execution_count": 51,
   "id": "577a2a63-2bd0-499a-90d3-d5a05ba96152",
   "metadata": {
    "editable": true,
    "slideshow": {
     "slide_type": ""
    },
    "tags": []
   },
   "outputs": [],
   "source": [
    "data = [1.9, \"O+\", 29]\n",
    "sequence = (1, 2, 4, 8, 16)"
   ]
  },
  {
   "cell_type": "markdown",
   "id": "fc331bfb-98d3-4b44-9890-d5f3be9ad576",
   "metadata": {
    "editable": true,
    "slideshow": {
     "slide_type": "fragment"
    },
    "tags": []
   },
   "source": [
    "Dicts can be used to store data in key, value pairs."
   ]
  },
  {
   "cell_type": "code",
   "execution_count": 52,
   "id": "ccf71341-b872-4d5c-9683-ebf47bac609c",
   "metadata": {
    "editable": true,
    "slideshow": {
     "slide_type": ""
    },
    "tags": []
   },
   "outputs": [],
   "source": [
    "scores = {\"sub-001\": 9, \"sub-002\": 11, \"sub-003\": 8}"
   ]
  }
 ],
 "metadata": {
  "kernelspec": {
   "display_name": ".venv",
   "language": "python",
   "name": "python3"
  },
  "language_info": {
   "codemirror_mode": {
    "name": "ipython",
    "version": 3
   },
   "file_extension": ".py",
   "mimetype": "text/x-python",
   "name": "python",
   "nbconvert_exporter": "python",
   "pygments_lexer": "ipython3",
   "version": "3.12.8"
  }
 },
 "nbformat": 4,
 "nbformat_minor": 5
}
