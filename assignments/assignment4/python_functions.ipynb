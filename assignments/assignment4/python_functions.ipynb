{
 "cells": [
  {
   "cell_type": "markdown",
   "id": "0c1c9b57-6b5f-4b30-9d3f-ab6a603d10e5",
   "metadata": {
    "editable": true,
    "slideshow": {
     "slide_type": "slide"
    },
    "tags": []
   },
   "source": [
    "# Python functions\n",
    "\n",
    "Python has a number of built-in functions for things like math calculations, working with the filesystem, and reading in common file formats. First, we'll talk about how to use modules to access more functions. Then, we'll see how we can define our own custom functions to do whatever we want."
   ]
  },
  {
   "cell_type": "markdown",
   "id": "c9b9a0f3-3519-414e-a556-64e20ebaee27",
   "metadata": {
    "editable": true,
    "slideshow": {
     "slide_type": "slide"
    },
    "tags": []
   },
   "source": [
    "## Modules\n",
    "\n",
    "In addition to the basic Python syntax and commands, more tools can be accessed using *modules*. Modules must be imported into your current *namespace* using the `import` statement.\n",
    "\n",
    "For example, the `math` module has additional math functions that go beyond just simple arithmetic. We have to first import it to use it."
   ]
  },
  {
   "cell_type": "code",
   "execution_count": 23,
   "id": "f51f27e3-b33c-41b2-bfcc-49868a0289ef",
   "metadata": {
    "editable": true,
    "slideshow": {
     "slide_type": ""
    },
    "tags": []
   },
   "outputs": [
    {
     "name": "stdout",
     "output_type": "stream",
     "text": [
      "4\n"
     ]
    }
   ],
   "source": [
    "import math\n",
    "memory_delay_days = 3.3\n",
    "memory_delay_ceil = math.ceil(memory_delay_days)\n",
    "print(memory_delay_ceil)"
   ]
  },
  {
   "cell_type": "markdown",
   "id": "a25ac0c4-dda3-42fb-aca6-63e43f4fe835",
   "metadata": {
    "editable": true,
    "slideshow": {
     "slide_type": ""
    },
    "tags": []
   },
   "source": [
    "Use the `help` function to see more information about the `math` module."
   ]
  },
  {
   "cell_type": "markdown",
   "id": "9e2e8dc3-4deb-41d8-8a9f-5a87954a5435",
   "metadata": {
    "editable": true,
    "slideshow": {
     "slide_type": "slide"
    },
    "tags": []
   },
   "source": [
    "There are multiple ways to import things from modules that give you some flexibility. You can import a specific function or functions from a module."
   ]
  },
  {
   "cell_type": "code",
   "execution_count": 24,
   "id": "fbfffde6-93cb-455b-9d3e-abd1209a88bd",
   "metadata": {
    "editable": true,
    "slideshow": {
     "slide_type": ""
    },
    "tags": []
   },
   "outputs": [
    {
     "name": "stdout",
     "output_type": "stream",
     "text": [
      "3\n"
     ]
    }
   ],
   "source": [
    "from math import ceil, floor\n",
    "print(floor(memory_delay_days))"
   ]
  },
  {
   "cell_type": "markdown",
   "id": "c03251db-db0e-49c0-ab4a-a67c17828b3f",
   "metadata": {
    "editable": true,
    "slideshow": {
     "slide_type": "fragment"
    },
    "tags": []
   },
   "source": [
    "Usually it's best to just import the module and then call functions using dot syntax, like `math.ceil`. That way, it's easy to tell where a given function came from."
   ]
  },
  {
   "cell_type": "markdown",
   "id": "7f9d4161-0de1-4119-bbaf-1998f9e9ef92",
   "metadata": {
    "editable": true,
    "slideshow": {
     "slide_type": "slide"
    },
    "tags": []
   },
   "source": [
    "You can give a module a different name when importing it. This is often a good idea when the module name is long."
   ]
  },
  {
   "cell_type": "code",
   "execution_count": 25,
   "id": "28633224-424d-42c4-9fc1-952f8a68f5ba",
   "metadata": {
    "editable": true,
    "slideshow": {
     "slide_type": ""
    },
    "tags": []
   },
   "outputs": [
    {
     "name": "stdout",
     "output_type": "stream",
     "text": [
      "1.6487212707001282\n"
     ]
    }
   ],
   "source": [
    "import math as mt\n",
    "print(mt.exp(.5))"
   ]
  },
  {
   "cell_type": "markdown",
   "id": "b0329bb1-5e78-4e86-a6c9-8ace2969178b",
   "metadata": {
    "editable": true,
    "slideshow": {
     "slide_type": "fragment"
    },
    "tags": []
   },
   "source": [
    "There are conventions for short names to use for some modules. For the `math` module, most people don't rename it, because it's already pretty short. Later on, we'll see how people usually import the number module using `import numpy as np` to make commands easier to type, like `np.mean`."
   ]
  },
  {
   "cell_type": "markdown",
   "id": "b4dd067b-36c3-4fcc-8f46-ac2bca6cf193",
   "metadata": {
    "editable": true,
    "slideshow": {
     "slide_type": "slide"
    },
    "tags": []
   },
   "source": [
    "### Exercise: modules\n",
    "Use the `math` module to calculate $cos(\\pi)$. Run `help(math)` to see a summary of the functions and variables available. See the DATA section at the end, which defines some standard mathematical constants."
   ]
  },
  {
   "cell_type": "code",
   "execution_count": 26,
   "id": "a8691e61-a336-48cd-9a78-f7f98104ce9e",
   "metadata": {
    "editable": true,
    "slideshow": {
     "slide_type": ""
    },
    "tags": []
   },
   "outputs": [
    {
     "data": {
      "text/plain": [
       "-1.0"
      ]
     },
     "execution_count": 26,
     "metadata": {},
     "output_type": "execute_result"
    }
   ],
   "source": [
    "import math\n",
    "math.cos(math.pi)"
   ]
  },
  {
   "cell_type": "markdown",
   "id": "30645299-d367-4f1c-be31-6fbf5bbffae4",
   "metadata": {
    "editable": true,
    "slideshow": {
     "slide_type": "slide"
    },
    "tags": []
   },
   "source": [
    "## Functions\n",
    "\n",
    "A key method for running programs involves defining a *function* that runs some code to complete some purpose. This function can then be used whenever you need to complete that task.\n",
    "\n",
    "```python\n",
    "output1, output2, ... = function_name(input1, input2, ...)\n",
    "```\n",
    "\n",
    "Functions help you follow the DRY principle: Don't Repeat Yourself. Beginners often do a lot of copying and pasting code. But this can lead to programs that are harder to read, debug, and improve, because they have a lot of redundancy."
   ]
  },
  {
   "cell_type": "markdown",
   "id": "f3a6dcc0-b2b8-4b7b-867c-d91ac2990cc6",
   "metadata": {
    "editable": true,
    "slideshow": {
     "slide_type": "slide"
    },
    "tags": []
   },
   "source": [
    "We can make a new function using the `def` keyword.\n",
    "\n",
    "```python\n",
    "def function_name(input1, input2):\n",
    "    # code to calculate some output\n",
    "    return output1, output2\n",
    "```\n",
    "\n",
    "Usually, functions have two parts: inputs (also known as *arguments*) and outputs. The `return` statement determines the output(s) of the function."
   ]
  },
  {
   "cell_type": "markdown",
   "id": "0ff55a0d-1d4a-4619-b930-d565bc7fb766",
   "metadata": {
    "editable": true,
    "slideshow": {
     "slide_type": "slide"
    },
    "tags": []
   },
   "source": [
    "Let's make a really simple function that takes in a number and doubles it."
   ]
  },
  {
   "cell_type": "code",
   "execution_count": 27,
   "id": "14130a0f-983d-4ddf-9514-ab7739cc8bc2",
   "metadata": {
    "editable": true,
    "slideshow": {
     "slide_type": ""
    },
    "tags": []
   },
   "outputs": [],
   "source": [
    "def double(x):\n",
    "    return x * 2"
   ]
  },
  {
   "cell_type": "markdown",
   "id": "a9df0df8-3471-409e-93f1-c0c695b8592c",
   "metadata": {
    "editable": true,
    "slideshow": {
     "slide_type": "fragment"
    },
    "tags": []
   },
   "source": [
    "Now that we've defined this function, we can call it the same as any built-in Python function."
   ]
  },
  {
   "cell_type": "code",
   "execution_count": 28,
   "id": "1a80f29e-1471-4678-8f64-2b1b417aba94",
   "metadata": {
    "editable": true,
    "slideshow": {
     "slide_type": ""
    },
    "tags": []
   },
   "outputs": [
    {
     "name": "stdout",
     "output_type": "stream",
     "text": [
      "4\n"
     ]
    }
   ],
   "source": [
    "x = 2\n",
    "y = double(x)\n",
    "print(y)"
   ]
  },
  {
   "cell_type": "markdown",
   "id": "96064044-5bc8-4d82-8e7f-087041f90d4d",
   "metadata": {
    "editable": true,
    "slideshow": {
     "slide_type": "slide"
    },
    "tags": []
   },
   "source": [
    "The `x` in the definition of the `double` function is just a name that's used in the function. When we're calling the function, we can name the variable whatever we want..."
   ]
  },
  {
   "cell_type": "code",
   "execution_count": 29,
   "id": "ea9c55a3-f72c-4eb2-bff4-7c6bf95041d0",
   "metadata": {
    "editable": true,
    "slideshow": {
     "slide_type": ""
    },
    "tags": []
   },
   "outputs": [
    {
     "name": "stdout",
     "output_type": "stream",
     "text": [
      "20\n"
     ]
    }
   ],
   "source": [
    "z = 10\n",
    "print(double(z))"
   ]
  },
  {
   "cell_type": "markdown",
   "id": "aac9e86a-ef06-4d74-a021-16c27e65a4c4",
   "metadata": {
    "editable": true,
    "slideshow": {
     "slide_type": "fragment"
    },
    "tags": []
   },
   "source": [
    "Or not give it a name at all and just input a number directly into the function without assigning it to a variable first."
   ]
  },
  {
   "cell_type": "code",
   "execution_count": 30,
   "id": "47ad4fc2-2d0d-43cd-81ba-41fe839e2b7c",
   "metadata": {
    "editable": true,
    "slideshow": {
     "slide_type": ""
    },
    "tags": []
   },
   "outputs": [
    {
     "name": "stdout",
     "output_type": "stream",
     "text": [
      "18000\n"
     ]
    }
   ],
   "source": [
    "print(double(9000))"
   ]
  },
  {
   "cell_type": "markdown",
   "id": "61c60fe2-5314-48ed-a63c-b4204d1ebc72",
   "metadata": {
    "editable": true,
    "slideshow": {
     "slide_type": "slide"
    },
    "tags": []
   },
   "source": [
    "Variables defined a function can only be accessed in the function. A function has a *scope* where variables are defined locally. They're temporary variables used when executing the function. After the function runs, they don't exist anymore."
   ]
  },
  {
   "cell_type": "code",
   "execution_count": 31,
   "id": "0e37166a-e39e-426c-a752-795d9b006213",
   "metadata": {
    "editable": true,
    "slideshow": {
     "slide_type": ""
    },
    "tags": []
   },
   "outputs": [
    {
     "name": "stdout",
     "output_type": "stream",
     "text": [
      "23\n"
     ]
    }
   ],
   "source": [
    "def test_variables(a):\n",
    "    b = a * 2\n",
    "    c = b ** 2\n",
    "    return c + 7\n",
    "\n",
    "a = 2\n",
    "d = test_variables(a)\n",
    "print(d)\n",
    "# print(c) throws an error; c is not defined out here (try it!)"
   ]
  },
  {
   "cell_type": "markdown",
   "id": "ad426370-fe23-464e-bc06-5047ac9139ec",
   "metadata": {
    "editable": true,
    "slideshow": {
     "slide_type": "slide"
    },
    "tags": []
   },
   "source": [
    "A function can include a special string known as a *docstring*, which comes right at the start of the function definition. This is usually specified using triple quotes, like `\"\"\"This is a docstring.\"\"\"` The triple quotes allow you to split a string over multiple lines, so you can explain what the inputs and outputs are. But often a simple function will just have one line saying what it does."
   ]
  },
  {
   "cell_type": "code",
   "execution_count": 54,
   "id": "9e4b58c7-ac30-4ad6-aecd-de400f4b0d0d",
   "metadata": {
    "editable": true,
    "slideshow": {
     "slide_type": ""
    },
    "tags": []
   },
   "outputs": [
    {
     "name": "stdout",
     "output_type": "stream",
     "text": [
      "2025-02-10\n"
     ]
    }
   ],
   "source": [
    "def print_date():\n",
    "    \"\"\"Display the current date using datetime.\"\"\"\n",
    "    from datetime import date\n",
    "    print(date.today())\n",
    "\n",
    "print_date()"
   ]
  },
  {
   "cell_type": "markdown",
   "id": "97991803-0c58-46f8-a47f-8be1bcf6d2e6",
   "metadata": {
    "editable": true,
    "slideshow": {
     "slide_type": "fragment"
    },
    "tags": []
   },
   "source": [
    "The first line of a docstring should be written as an *imperative* sentence. That is, say what the function will do. Good: `Display the current date.`. Bad: `This function displays the current date.`. Notice that the second version takes more words to say the same thing."
   ]
  },
  {
   "cell_type": "markdown",
   "id": "c95be54b-d3f0-4c58-b2da-8a038f0c5e75",
   "metadata": {
    "editable": true,
    "slideshow": {
     "slide_type": "slide"
    },
    "tags": []
   },
   "source": [
    "We can see a function's docstring by using `help`, or by typing `function_name?` in Jupyter."
   ]
  },
  {
   "cell_type": "code",
   "execution_count": 55,
   "id": "d100bdd6-0e6f-489e-abf9-afc8cd18c53e",
   "metadata": {
    "editable": true,
    "slideshow": {
     "slide_type": "fragment"
    },
    "tags": []
   },
   "outputs": [
    {
     "name": "stdout",
     "output_type": "stream",
     "text": [
      "Help on function print_date in module __main__:\n",
      "\n",
      "print_date()\n",
      "    Display the current date using datetime.\n",
      "\n"
     ]
    }
   ],
   "source": [
    "help(print_date)"
   ]
  },
  {
   "cell_type": "code",
   "execution_count": 56,
   "id": "5f8bc70a-b189-4f46-9869-5223108dafa9",
   "metadata": {
    "editable": true,
    "slideshow": {
     "slide_type": "fragment"
    },
    "tags": []
   },
   "outputs": [
    {
     "name": "stdout",
     "output_type": "stream",
     "text": [
      "\u001b[1;31mSignature:\u001b[0m \u001b[0mprint_date\u001b[0m\u001b[1;33m(\u001b[0m\u001b[1;33m)\u001b[0m\u001b[1;33m\u001b[0m\u001b[1;33m\u001b[0m\u001b[0m\n",
      "\u001b[1;31mDocstring:\u001b[0m Display the current date using datetime.\n",
      "\u001b[1;31mFile:\u001b[0m      c:\\users\\mchicks\\appdata\\local\\temp\\ipykernel_7080\\9039494.py\n",
      "\u001b[1;31mType:\u001b[0m      function"
     ]
    }
   ],
   "source": [
    "print_date?"
   ]
  },
  {
   "cell_type": "markdown",
   "id": "45253e80-bd92-4aba-a5a6-d63a570164bc",
   "metadata": {
    "editable": true,
    "slideshow": {
     "slide_type": "slide"
    },
    "tags": []
   },
   "source": [
    "We can use functions to repeat things we need to do multiple times. Say that we have data for multiple participants, and we want to be able to print a summary for a given participant."
   ]
  },
  {
   "cell_type": "code",
   "execution_count": 35,
   "id": "fb5137d5-6024-4d3e-9734-4b4eb39e61fa",
   "metadata": {
    "editable": true,
    "slideshow": {
     "slide_type": ""
    },
    "tags": []
   },
   "outputs": [],
   "source": [
    "# data for each participant\n",
    "data1 = {\"id\": \"001\", \"accuracy\": 0.82, \"response_time\": 4.2}\n",
    "data2 = {\"id\": \"002\", \"accuracy\": 0.53, \"response_time\": 3.2}"
   ]
  },
  {
   "cell_type": "markdown",
   "id": "9567c1b2-c211-46d4-91de-f3f2ad6c3062",
   "metadata": {
    "editable": true,
    "slideshow": {
     "slide_type": "fragment"
    },
    "tags": []
   },
   "source": [
    "We can use a function to make this convenient. Instead of having to copy and paste the printing code whenever we want to use it, we just call the function."
   ]
  },
  {
   "cell_type": "code",
   "execution_count": 36,
   "id": "eb0a3da3-996b-49dd-9f11-bd40f3c834ff",
   "metadata": {
    "editable": true,
    "slideshow": {
     "slide_type": ""
    },
    "tags": []
   },
   "outputs": [
    {
     "name": "stdout",
     "output_type": "stream",
     "text": [
      "sub-001: 82%, 4.2s\n",
      "sub-002: 53%, 3.2s\n"
     ]
    }
   ],
   "source": [
    "def summarize(data):\n",
    "    \"\"\"Summarize participant data.\"\"\"\n",
    "    percent = round(data[\"accuracy\"] * 100)\n",
    "    print(f\"sub-{data[\"id\"]}: {percent}%, {data[\"response_time\"]}s\")\n",
    "\n",
    "summarize(data1)\n",
    "summarize(data2)"
   ]
  },
  {
   "cell_type": "markdown",
   "id": "f07a625e-b25e-4750-adc1-132687d9e52f",
   "metadata": {
    "editable": true,
    "slideshow": {
     "slide_type": "slide"
    },
    "tags": []
   },
   "source": [
    "### Exercise: functions\n",
    "Create a function called `square` that will take in some variable $x$ and calculate $x^2$. In Python, you can square a variable using `x ** 2`. Use the function to calculate the squares of 2, 3, and 4.\n",
    "\n",
    "Create another function called `add_three` that takes in three variables $x$, $y$, and $z$ and returns $x + y + z$. Use it to add 2, 3, and 4 together."
   ]
  },
  {
   "cell_type": "code",
   "execution_count": 1,
   "id": "4d99f61b-50ce-402e-84ea-428e7a7e5125",
   "metadata": {
    "editable": true,
    "slideshow": {
     "slide_type": ""
    },
    "tags": []
   },
   "outputs": [
    {
     "name": "stdout",
     "output_type": "stream",
     "text": [
      "4\n",
      "9\n",
      "16\n",
      "9\n"
     ]
    }
   ],
   "source": [
    "def square(x):\n",
    "    return x**2\n",
    "print(square(2))\n",
    "print(square(3))\n",
    "print(square(4))\n",
    "def add_three(x,y,z):\n",
    "    return x+y+z\n",
    "print(add_three(2,3,4))\n"
   ]
  },
  {
   "cell_type": "markdown",
   "id": "3772b7c5-5913-4c68-b51c-8ad4d8682445",
   "metadata": {
    "editable": true,
    "slideshow": {
     "slide_type": "slide"
    },
    "tags": []
   },
   "source": [
    "## Multiple inputs and outputs\n",
    "Functions can take in multiple inputs and return multiple outputs. Both inputs and outputs are stored in *tuples*, which we covered briefly before."
   ]
  },
  {
   "cell_type": "code",
   "execution_count": 74,
   "id": "2f986e9d-416f-4d5e-bef2-e1b831fe430f",
   "metadata": {
    "editable": true,
    "slideshow": {
     "slide_type": ""
    },
    "tags": []
   },
   "outputs": [
    {
     "name": "stdout",
     "output_type": "stream",
     "text": [
      "(1, 2)\n",
      "<class 'tuple'>\n"
     ]
    }
   ],
   "source": [
    "def return_two_things():\n",
    "    \"\"\"Return two variables in a tuple.\"\"\"\n",
    "    return 1, 2\n",
    "\n",
    "t = return_two_things()\n",
    "print(t)\n",
    "print(type(t))"
   ]
  },
  {
   "cell_type": "markdown",
   "id": "0d14ab1d-6eab-4f39-85d5-011bdab2f3ca",
   "metadata": {
    "editable": true,
    "slideshow": {
     "slide_type": "slide"
    },
    "tags": []
   },
   "source": [
    "Usually, we'll want to assign multiple outputs to different variables. We can do this using a feature called *tuple unpacking*."
   ]
  },
  {
   "cell_type": "code",
   "execution_count": 75,
   "id": "9ee70b3c-410d-4280-ba3d-68ef40033ae9",
   "metadata": {
    "editable": true,
    "slideshow": {
     "slide_type": ""
    },
    "tags": []
   },
   "outputs": [
    {
     "name": "stdout",
     "output_type": "stream",
     "text": [
      "1\n",
      "2\n"
     ]
    }
   ],
   "source": [
    "a, b = return_two_things()\n",
    "print(a)\n",
    "print(b)"
   ]
  },
  {
   "cell_type": "markdown",
   "id": "7bfc4433-f6f5-42fe-9798-9a47a0bcb293",
   "metadata": {
    "editable": true,
    "slideshow": {
     "slide_type": "fragment"
    },
    "tags": []
   },
   "source": [
    "This is mostly used when calling a function, but it works with any tuple. Sometimes people will use it to define multiple variables in one line."
   ]
  },
  {
   "cell_type": "code",
   "execution_count": 40,
   "id": "9a00bd19-afad-4aae-842b-d19dd34b921b",
   "metadata": {
    "editable": true,
    "slideshow": {
     "slide_type": ""
    },
    "tags": []
   },
   "outputs": [
    {
     "name": "stdout",
     "output_type": "stream",
     "text": [
      "1\n",
      "2\n",
      "3\n"
     ]
    }
   ],
   "source": [
    "a, b, c = 1, 2, 3\n",
    "print(a)\n",
    "print(b)\n",
    "print(c)"
   ]
  },
  {
   "cell_type": "markdown",
   "id": "65ea4404-65eb-4f09-a5cd-50437ab93a75",
   "metadata": {
    "editable": true,
    "slideshow": {
     "slide_type": "slide"
    },
    "tags": []
   },
   "source": [
    "Let's look at another example with multiple inputs and multiple outputs."
   ]
  },
  {
   "cell_type": "code",
   "execution_count": 76,
   "id": "9a8857a4-703d-49b1-b955-b4f918343ca1",
   "metadata": {
    "editable": true,
    "slideshow": {
     "slide_type": ""
    },
    "tags": []
   },
   "outputs": [],
   "source": [
    "def double_double(x, y):\n",
    "    \"\"\"Multiply two numbers by two.\"\"\"\n",
    "    return x * 2, y * 2"
   ]
  },
  {
   "cell_type": "markdown",
   "id": "3481b1eb-bf27-46ac-9843-6ea730af9875",
   "metadata": {
    "editable": true,
    "slideshow": {
     "slide_type": "fragment"
    },
    "tags": []
   },
   "source": [
    "If we call this function, we'll get two values back."
   ]
  },
  {
   "cell_type": "code",
   "execution_count": 42,
   "id": "f10e36e4-9149-41dd-adff-5e0118c43d49",
   "metadata": {
    "editable": true,
    "slideshow": {
     "slide_type": ""
    },
    "tags": []
   },
   "outputs": [
    {
     "name": "stdout",
     "output_type": "stream",
     "text": [
      "4 8\n"
     ]
    }
   ],
   "source": [
    "x = 2\n",
    "y = 4\n",
    "a, b = double_double(x, y)\n",
    "print(a, b)"
   ]
  },
  {
   "cell_type": "markdown",
   "id": "42248a84-2338-4b4b-bd59-73ef9f12cc4b",
   "metadata": {
    "editable": true,
    "slideshow": {
     "slide_type": "slide"
    },
    "tags": []
   },
   "source": [
    "Usually, when we define a function, there will be a fixed number of inputs. Sometimes, it's helpful to allow the user to have any number of inputs. The `print` function is an example of this; we can print multiple objects by passing them all into a call."
   ]
  },
  {
   "cell_type": "code",
   "execution_count": 43,
   "id": "5520f260-eed8-4fba-b259-d99c61567052",
   "metadata": {
    "editable": true,
    "slideshow": {
     "slide_type": ""
    },
    "tags": []
   },
   "outputs": [
    {
     "name": "stdout",
     "output_type": "stream",
     "text": [
      "1 2 3 4 5 6\n"
     ]
    }
   ],
   "source": [
    "print(1, 2, 3, 4, 5, 6)"
   ]
  },
  {
   "cell_type": "markdown",
   "id": "bd1491b3-5d46-4823-a571-66efe5514401",
   "metadata": {
    "editable": true,
    "slideshow": {
     "slide_type": "slide"
    },
    "tags": []
   },
   "source": [
    "We can make a function that takes in any number of inputs using the `*` syntax. Here, `args` is short for *arguments*, which is another name for function inputs."
   ]
  },
  {
   "cell_type": "code",
   "execution_count": 44,
   "id": "06dc7148-11d8-4411-8643-b908d77db9cc",
   "metadata": {
    "editable": true,
    "slideshow": {
     "slide_type": ""
    },
    "tags": []
   },
   "outputs": [
    {
     "name": "stdout",
     "output_type": "stream",
     "text": [
      "(1, 2, 3)\n",
      "<class 'tuple'>\n"
     ]
    }
   ],
   "source": [
    "def get_args(*args):\n",
    "    return args\n",
    "outputs = get_args(1, 2, 3)\n",
    "print(outputs)\n",
    "print(type(outputs))"
   ]
  },
  {
   "cell_type": "markdown",
   "id": "f771b89e-73b2-467f-a749-b352c4e82e22",
   "metadata": {
    "editable": true,
    "slideshow": {
     "slide_type": "fragment"
    },
    "tags": []
   },
   "source": [
    "By putting a `*` in front of an argument, like `*variables` (or whatever we want to call it), we're indicating that the rest of the arguments should be placed into a tuple called `variables`."
   ]
  },
  {
   "cell_type": "markdown",
   "id": "040be8aa-e449-47a5-85b7-75770a6dabb4",
   "metadata": {
    "editable": true,
    "slideshow": {
     "slide_type": "slide"
    },
    "tags": []
   },
   "source": [
    "We can use the `*` syntax to write a function that will work with any number of arguments."
   ]
  },
  {
   "cell_type": "code",
   "execution_count": 45,
   "id": "444a8475-a159-42de-b8b4-3fc7cfcbdd70",
   "metadata": {
    "editable": true,
    "slideshow": {
     "slide_type": ""
    },
    "tags": []
   },
   "outputs": [
    {
     "data": {
      "text/plain": [
       "6"
      ]
     },
     "execution_count": 45,
     "metadata": {},
     "output_type": "execute_result"
    }
   ],
   "source": [
    "def get_maximum(*args):\n",
    "    \"\"\"Get the maximum out of the inputs.\"\"\"\n",
    "    return max(args)\n",
    "\n",
    "get_maximum(2, 6, 4)"
   ]
  },
  {
   "cell_type": "markdown",
   "id": "8acbd41c-8d05-4406-a48d-7b783a5a0461",
   "metadata": {
    "editable": true,
    "slideshow": {
     "slide_type": "slide"
    },
    "tags": []
   },
   "source": [
    "### Exercise: multiple inputs and outputs\n",
    "\n",
    "Write a function called `two_powers` that takes three variables, `x`, `y`, and `z`, and returns two values: $x^y$ and $x^z$. Test it with $x=2$, $y=3$, and $z=4$.\n",
    "\n",
    "#### Advanced\n",
    "Create a function called `add_multiple` that takes in a variable amount of numbers and adds them all together. The built-in function `sum` will sum together a list or tuple of numbers. Test your function with inputs `2, 3, 4`."
   ]
  },
  {
   "cell_type": "code",
   "execution_count": 84,
   "id": "2e72def5-747c-4449-ab55-cae96d6822ee",
   "metadata": {
    "editable": true,
    "slideshow": {
     "slide_type": ""
    },
    "tags": []
   },
   "outputs": [
    {
     "name": "stdout",
     "output_type": "stream",
     "text": [
      "(8, 16)\n",
      "9\n"
     ]
    }
   ],
   "source": [
    "def two_powers(x,y,z):\n",
    "    return x**y,x**z\n",
    "print(two_powers(2,3,4))\n",
    "\n",
    "def add_multiple(*numbers):\n",
    "    return sum(numbers)\n",
    "print(add_multiple(2,3,4))\n",
    "\n",
    "\n",
    "    "
   ]
  },
  {
   "cell_type": "markdown",
   "id": "9cdd8048-45e9-4a89-875b-5d7b17e5ee4b",
   "metadata": {
    "editable": true,
    "slideshow": {
     "slide_type": "slide"
    },
    "tags": []
   },
   "source": [
    "## Function arguments\n",
    "There are two types of arguments to functions: *positional* arguments, like we've used so far; and *keyword* arguments, which have names attached to them. Keyword arguments make it so we can label arguments when we're defining a function. This can sometimes make it easier to see what we're trying to do when calling a function. It also means that we don't have to specify all the inputs; we can leave some as their default values instead.\n",
    "\n",
    "```python\n",
    "def myfunction(pos1, pos2, pos3, kw1=\"default\", kw2=42):\n",
    "    ...\n",
    "```\n",
    "\n",
    "In this example, there are three positional arguments, which are required, and two optional keyword arguments, which default to `\"default\"` and `42` if they are not specified."
   ]
  },
  {
   "cell_type": "markdown",
   "id": "79715ad6-4e2a-4efc-be27-dbdd5b645243",
   "metadata": {
    "editable": true,
    "slideshow": {
     "slide_type": "slide"
    },
    "tags": []
   },
   "source": [
    "Let's use a keyword argument to set a default value for a function. We'll multiply an input by 3 by default."
   ]
  },
  {
   "cell_type": "code",
   "execution_count": 47,
   "id": "0009e752-f71d-443d-9bc8-79f5888c594a",
   "metadata": {
    "editable": true,
    "slideshow": {
     "slide_type": ""
    },
    "tags": []
   },
   "outputs": [
    {
     "name": "stdout",
     "output_type": "stream",
     "text": [
      "12\n"
     ]
    }
   ],
   "source": [
    "def mult_three_default(x, mult=3):\n",
    "    return x * mult\n",
    "\n",
    "print(mult_three_default(4))"
   ]
  },
  {
   "cell_type": "markdown",
   "id": "1cdd5735-c85b-4e2a-a744-8a4079203479",
   "metadata": {
    "editable": true,
    "slideshow": {
     "slide_type": "fragment"
    },
    "tags": []
   },
   "source": [
    "We can also change the default value that we multiply by, in two ways. We can either specify it by just putting a value in the second position when calling the function:"
   ]
  },
  {
   "cell_type": "code",
   "execution_count": 48,
   "id": "452b32ff-a130-40b2-be57-656f61f5f70a",
   "metadata": {
    "editable": true,
    "slideshow": {
     "slide_type": ""
    },
    "tags": []
   },
   "outputs": [
    {
     "name": "stdout",
     "output_type": "stream",
     "text": [
      "400\n"
     ]
    }
   ],
   "source": [
    "print(mult_three_default(4, 100))"
   ]
  },
  {
   "cell_type": "markdown",
   "id": "2a1b75ce-efe6-4add-88c1-2f5fafc0fb87",
   "metadata": {
    "editable": true,
    "slideshow": {
     "slide_type": "fragment"
    },
    "tags": []
   },
   "source": [
    "Or we can specify the keyword explicitly:"
   ]
  },
  {
   "cell_type": "code",
   "execution_count": 49,
   "id": "0550eb8c-7ae5-4255-ac4d-0881c240e49c",
   "metadata": {
    "editable": true,
    "slideshow": {
     "slide_type": ""
    },
    "tags": []
   },
   "outputs": [
    {
     "name": "stdout",
     "output_type": "stream",
     "text": [
      "400\n"
     ]
    }
   ],
   "source": [
    "print(mult_three_default(4, mult=100))"
   ]
  },
  {
   "cell_type": "markdown",
   "id": "e42937f8-ed00-4802-b28e-122c76a812a3",
   "metadata": {
    "editable": true,
    "slideshow": {
     "slide_type": "slide"
    },
    "tags": []
   },
   "source": [
    "If we have multiple keywords, we can just specify one, and the other one will use the default."
   ]
  },
  {
   "cell_type": "code",
   "execution_count": 50,
   "id": "ab6a0d4d-972b-4ad1-ac99-709d36533db5",
   "metadata": {
    "editable": true,
    "slideshow": {
     "slide_type": ""
    },
    "tags": []
   },
   "outputs": [
    {
     "name": "stdout",
     "output_type": "stream",
     "text": [
      "6\n",
      "12\n"
     ]
    }
   ],
   "source": [
    "def prod(x=2, y=3):\n",
    "    return x * y\n",
    "\n",
    "print(prod())\n",
    "print(prod(y=6))"
   ]
  },
  {
   "cell_type": "markdown",
   "id": "57c0fda3-ad24-400c-9ca8-54cc2d5f44e1",
   "metadata": {
    "editable": true,
    "slideshow": {
     "slide_type": "slide"
    },
    "tags": []
   },
   "source": [
    "### Exercise: function arguments\n",
    "Define two variables: `c = 1` and `d = 2`. Run `print(c, d)` and see what it prints. The `print` function has an option that determines how multiple variables are separated in the output. Run `help(print)` to see the documentation. Run `print` again, but this time set the `sep` keyword so that there is a comma between the arguments instead of a space."
   ]
  },
  {
   "cell_type": "code",
   "execution_count": 93,
   "id": "fc02e34d-858b-48f6-b2b4-b7a5f1ac5ab7",
   "metadata": {
    "editable": true,
    "slideshow": {
     "slide_type": ""
    },
    "tags": []
   },
   "outputs": [
    {
     "name": "stdout",
     "output_type": "stream",
     "text": [
      "1,2\n"
     ]
    }
   ],
   "source": [
    "c = 1\n",
    "d = 2\n",
    "print(c,d, sep=\",\")\n",
    "\n",
    "\n"
   ]
  },
  {
   "cell_type": "markdown",
   "id": "4cd5e328-1289-4499-ad1c-7d3917016613",
   "metadata": {
    "editable": true,
    "slideshow": {
     "slide_type": "slide"
    },
    "tags": []
   },
   "source": [
    "## Variable numbers of keyword arguments\n",
    "Like how you can capture multiple positional inputs using a star, like `*args`, it is also possible to capture multiple keyword arguments using a double star, like `**kwargs`. "
   ]
  },
  {
   "cell_type": "code",
   "execution_count": 52,
   "id": "66d389e0-12a2-4e0b-8075-de3f3b3a3430",
   "metadata": {
    "editable": true,
    "slideshow": {
     "slide_type": ""
    },
    "tags": []
   },
   "outputs": [
    {
     "name": "stdout",
     "output_type": "stream",
     "text": [
      "{'a': 1, 'b': 2, 'c': 3}\n"
     ]
    }
   ],
   "source": [
    "def keywords(**kwargs):\n",
    "    return kwargs\n",
    "kwargs = keywords(a=1, b=2, c=3)\n",
    "print(kwargs)"
   ]
  },
  {
   "cell_type": "markdown",
   "id": "636ebfab-2d4d-44ce-92bd-b70049bf8190",
   "metadata": {
    "editable": true,
    "slideshow": {
     "slide_type": "fragment"
    },
    "tags": []
   },
   "source": [
    "Notice that, when you use the `**` syntax, keyword arguments get placed in a dictionary."
   ]
  },
  {
   "cell_type": "markdown",
   "id": "48eaf71a-6456-4c14-8742-e21047ec7c86",
   "metadata": {
    "editable": true,
    "slideshow": {
     "slide_type": "slide"
    },
    "tags": []
   },
   "source": [
    "Like `*args`, the use of name `kwargs` is just a common convention. You can call it whatever you want as long as you have `**` in front of the variable name. Taking in a variable number of keyword arguments is sometimes useful to take in keyword arguments that will be passed to another function."
   ]
  },
  {
   "cell_type": "code",
   "execution_count": 53,
   "id": "41b31ea3-61ce-4138-a0d0-54e128589ead",
   "metadata": {
    "editable": true,
    "slideshow": {
     "slide_type": ""
    },
    "tags": []
   },
   "outputs": [
    {
     "name": "stdout",
     "output_type": "stream",
     "text": [
      "3 5\n",
      "3,5\n"
     ]
    }
   ],
   "source": [
    "def add_then_print(x, y, **print_args):\n",
    "    x = x + 1\n",
    "    y = y + 1\n",
    "    print(x, y, **print_args)\n",
    "\n",
    "add_then_print(2, 4)\n",
    "add_then_print(2, 4, sep=\",\")"
   ]
  },
  {
   "cell_type": "markdown",
   "id": "bfd594a2-a029-410d-9b00-7d5a5d6ed0d2",
   "metadata": {
    "editable": true,
    "slideshow": {
     "slide_type": "fragment"
    },
    "tags": []
   },
   "source": [
    "By using the `**` syntax again when calling `print`, we pass the keywords directly to it."
   ]
  },
  {
   "cell_type": "markdown",
   "id": "6eb800cf-fe82-4001-8755-ada50b0ecfa5",
   "metadata": {
    "editable": true,
    "slideshow": {
     "slide_type": "slide"
    },
    "tags": []
   },
   "source": [
    "## Summary\n",
    "Functions are very important in Python. They allow us to write a piece of code once and then reuse it over and over again."
   ]
  },
  {
   "cell_type": "markdown",
   "id": "821a1101-8ae1-497d-8eae-728ee436a03e",
   "metadata": {
    "editable": true,
    "slideshow": {
     "slide_type": "fragment"
    },
    "tags": []
   },
   "source": [
    "A function with positional arguments and keyword arguments looks something like this:\n",
    "```python\n",
    "def my_function(pos1, pos2, kw1=1, kw2=None):\n",
    "    \"\"\"Perform some function.\"\"\"\n",
    "    # do something with required arguments pos1 and pos2,\n",
    "    # plus optional arguments kw1 and kw2.\n",
    "```"
   ]
  },
  {
   "cell_type": "markdown",
   "id": "f7315b55-07ca-49fb-885d-0c8be221b37e",
   "metadata": {
    "editable": true,
    "slideshow": {
     "slide_type": "fragment"
    },
    "tags": []
   },
   "source": [
    "We can also make functions that take in variable numbers of positional and keyword arguments, using `*` and `**` syntax:\n",
    "```python\n",
    "def variable_args(*pos, **kw):\n",
    "    \"\"\"Use variable numbers of inputs.\"\"\"\n",
    "    # do something with the tuple of position arguments pos,\n",
    "    # and the dict of keyword arguments kw.\n",
    "```"
   ]
  }
 ],
 "metadata": {
  "kernelspec": {
   "display_name": ".venv",
   "language": "python",
   "name": "python3"
  },
  "language_info": {
   "codemirror_mode": {
    "name": "ipython",
    "version": 3
   },
   "file_extension": ".py",
   "mimetype": "text/x-python",
   "name": "python",
   "nbconvert_exporter": "python",
   "pygments_lexer": "ipython3",
   "version": "3.12.8"
  }
 },
 "nbformat": 4,
 "nbformat_minor": 5
}
