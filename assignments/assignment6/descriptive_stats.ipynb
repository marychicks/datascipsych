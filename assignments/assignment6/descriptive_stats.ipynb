{
 "cells": [
  {
   "cell_type": "markdown",
   "id": "f0dc5b26-e500-4a0f-8378-0c11c4585fbe",
   "metadata": {
    "editable": true,
    "slideshow": {
     "slide_type": "slide"
    },
    "tags": []
   },
   "source": [
    "# Descriptive statistics\n",
    "Descriptive statistics can be used to summarize the observations made of some variable."
   ]
  },
  {
   "cell_type": "markdown",
   "id": "32d722e2",
   "metadata": {
    "editable": true,
    "slideshow": {
     "slide_type": "slide"
    },
    "tags": []
   },
   "source": [
    "## Sample distributions\n",
    "\n",
    "Sometimes, we have a sample of some variable that has been measured for many things. The range of values that the variable takes is called a *distribution*. For example, we might be interested in the distribution of age (in years) of participants that have completed a study. Say that we have an array with the age of each participant, with participants sorted by the order in which they completed the study."
   ]
  },
  {
   "cell_type": "code",
   "execution_count": 1,
   "id": "71532537",
   "metadata": {},
   "outputs": [],
   "source": [
    "import numpy as np\n",
    "age = np.array(\n",
    "    [18, 21, 25, 19, 28, 32, 19, 33, 22, 24, 35, 20, 27, 28, 30, 25, 26, 29, 24, 26, 28, 27, 29]\n",
    ")"
   ]
  },
  {
   "cell_type": "markdown",
   "id": "d06191fb",
   "metadata": {
    "editable": true,
    "slideshow": {
     "slide_type": "fragment"
    },
    "tags": []
   },
   "source": [
    "This is just a list of numbers, which is hard to get a sense of just looking at it."
   ]
  },
  {
   "cell_type": "markdown",
   "id": "56157104",
   "metadata": {
    "editable": true,
    "slideshow": {
     "slide_type": "slide"
    },
    "tags": []
   },
   "source": [
    "We can make a type of plot called a *histogram* to see the relative frequency of different values. Histograms divide values into bins and count up how many samples there are in each bin."
   ]
  },
  {
   "cell_type": "code",
   "execution_count": 2,
   "id": "52c5dfab",
   "metadata": {
    "editable": true,
    "slideshow": {
     "slide_type": ""
    },
    "tags": []
   },
   "outputs": [
    {
     "name": "stdout",
     "output_type": "stream",
     "text": [
      "[3. 2. 1. 2. 4. 5. 2. 1. 2. 1.]\n",
      "[18.  19.7 21.4 23.1 24.8 26.5 28.2 29.9 31.6 33.3 35. ]\n"
     ]
    },
    {
     "data": {
      "image/png": "[encoded data removed]",
      "text/plain": [
       "<Figure size 640x480 with 1 Axes>"
      ]
     },
     "metadata": {},
     "output_type": "display_data"
    }
   ],
   "source": [
    "import matplotlib.pyplot as plt\n",
    "values, edges, patches = plt.hist(age)\n",
    "print(values)\n",
    "print(edges)"
   ]
  },
  {
   "cell_type": "markdown",
   "id": "f5503889",
   "metadata": {
    "editable": true,
    "slideshow": {
     "slide_type": "fragment"
    },
    "tags": []
   },
   "source": [
    "This example uses Matplotlib, a commonly used library in Python for making many kinds of plots. It can be used to plot data stored in NumPy arrays."
   ]
  },
  {
   "cell_type": "markdown",
   "id": "688d108b",
   "metadata": {
    "editable": true,
    "slideshow": {
     "slide_type": "slide"
    },
    "tags": []
   },
   "source": [
    "If we don't specify bins, then the `hist` function will try to automatically find useful ones. We can also specify bins ourselves by indicating the edges of the bins. Here, we'll make bins that are two years wide."
   ]
  },
  {
   "cell_type": "code",
   "execution_count": 3,
   "id": "5a671ede",
   "metadata": {
    "editable": true,
    "slideshow": {
     "slide_type": ""
    },
    "tags": []
   },
   "outputs": [
    {
     "name": "stdout",
     "output_type": "stream",
     "text": [
      "[3. 2. 1. 4. 4. 5. 1. 2.]\n"
     ]
    },
    {
     "data": {
      "image/png": "[encoded data removed]",
      "text/plain": [
       "<Figure size 640x480 with 1 Axes>"
      ]
     },
     "metadata": {},
     "output_type": "display_data"
    }
   ],
   "source": [
    "bins = np.arange(18, 36, step=2)\n",
    "values, edges, patches = plt.hist(age, bins)\n",
    "print(values)"
   ]
  },
  {
   "cell_type": "markdown",
   "id": "a025105e-9fb3-4d1b-9fad-79e5e65f3dbb",
   "metadata": {
    "editable": true,
    "slideshow": {
     "slide_type": "slide"
    },
    "tags": []
   },
   "source": [
    "### Exercise: making a histogram\n",
    "\n",
    "Take the array of scores (created below using a random number generator) and plot a histogram. Make a histogram with the default edges, and a histogram that has bins 0–2, 2–4, 4–6, etc."
   ]
  },
  {
   "cell_type": "code",
   "execution_count": 4,
   "id": "77e2856e-0cba-49f0-b16e-47379bbe1867",
   "metadata": {
    "editable": true,
    "slideshow": {
     "slide_type": ""
    },
    "tags": []
   },
   "outputs": [],
   "source": [
    "rng = np.random.default_rng(1)\n",
    "scores = rng.normal(loc=10, scale=2, size=100)\n",
    "# answer here"
   ]
  },
  {
   "cell_type": "markdown",
   "id": "d0b7bf02-5ad0-4066-8e66-2dfebdb7b604",
   "metadata": {
    "editable": true,
    "slideshow": {
     "slide_type": "slide"
    },
    "tags": []
   },
   "source": [
    "## Statistical distributions\n",
    "Sometimes, we will have a good estimate of how some statistic, like height, varies across a large population of people. We'll use an estimate of how height varies in US adults by sex. Using data from the CDC, we'll calculate two numbers we need: the mean height and the standard deviation of the height."
   ]
  },
  {
   "cell_type": "code",
   "execution_count": 5,
   "id": "4f86ccd9-bb62-4c7d-b44c-4296f46bdcdf",
   "metadata": {
    "editable": true,
    "slideshow": {
     "slide_type": ""
    },
    "tags": []
   },
   "outputs": [],
   "source": [
    "# source: https://www.cdc.gov/nchs/data/series/sr_03/sr03-046-508.pdf\n",
    "# US females and males aged 20 and over, 2015-2018\n",
    "mf = 161.3\n",
    "nf = 5510\n",
    "semf = 0.19\n",
    "stdf = semf * np.sqrt(nf) / 2  # correction factor needed for some reason\n",
    "mm = 175.3\n",
    "nm = 5092\n",
    "semm = 0.19\n",
    "stdm = semm * np.sqrt(nm) / 2"
   ]
  },
  {
   "cell_type": "markdown",
   "id": "7e475ef0",
   "metadata": {
    "editable": true,
    "slideshow": {
     "slide_type": "slide"
    },
    "tags": []
   },
   "source": [
    "There are various tools in the SciPy Stats module that can be used to work with distributions. Here, we will use the *normal* distribution, a common shape of distribution that describes how real-world measures such as height and IQ vary across people. That is, there are a lot of people with a value near the mean, and the number of people with a given measure decreases with distance from the mean. In this example, we are plotting the *probability density function*, which gives the probability of observing people of different heights (in centimeters) for adults in the US.\n",
    "\n",
    "Don't worry about the details of the code; the main point for now is to see how normal distributions look."
   ]
  },
  {
   "cell_type": "code",
   "execution_count": 6,
   "id": "8ee9edbf-278f-4067-87f6-f574922e62ea",
   "metadata": {
    "editable": true,
    "slideshow": {
     "slide_type": ""
    },
    "tags": []
   },
   "outputs": [
    {
     "name": "stdout",
     "output_type": "stream",
     "text": [
      "Female mean: 161.3, std: 7.1\n",
      "Male mean: 175.3, std: 6.8\n"
     ]
    },
    {
     "data": {
      "image/png": "[encoded data removed]",
      "text/plain": [
       "<Figure size 640x480 with 1 Axes>"
      ]
     },
     "metadata": {},
     "output_type": "display_data"
    }
   ],
   "source": [
    "from scipy import stats\n",
    "x = np.linspace(135, 200, 100)  # the range of heights to consider\n",
    "pdff = stats.norm.pdf(x, loc=mf, scale=stdf)  # probability density function for female adults\n",
    "pdfm = stats.norm.pdf(x, loc=mm, scale=stdm)  # probability density function for male adults\n",
    "plt.plot(x, pdff, color=\"C1\")\n",
    "plt.plot(x, pdfm, color=\"C0\")\n",
    "plt.legend([\"female\", \"male\"])\n",
    "plt.xlabel(\"Height (cm)\")\n",
    "plt.ylabel(\"Probability density\");\n",
    "print(f\"Female mean: {mf}, std: {stdf:.1f}\")\n",
    "print(f\"Male mean: {mm}, std: {stdm:.1f}\")"
   ]
  },
  {
   "cell_type": "markdown",
   "id": "191fc41e-31ae-4947-9f18-9961863f95f6",
   "metadata": {
    "editable": true,
    "slideshow": {
     "slide_type": "slide"
    },
    "tags": []
   },
   "source": [
    "Let's look more closely at one of the distributions. One way to think about a distribution is in terms of *percentiles*. A percentile $p$ is the point where $p$% of observations are greater."
   ]
  },
  {
   "cell_type": "markdown",
   "id": "e0a9dcec-cf40-4281-9255-c9379a03c865",
   "metadata": {
    "editable": true,
    "slideshow": {
     "slide_type": "fragment"
    },
    "tags": []
   },
   "source": [
    "Let's use SciPy to get an estimate of the 50th percentile of height for females. The 50th percentile is also called the *median*."
   ]
  },
  {
   "cell_type": "code",
   "execution_count": 7,
   "id": "28156033-726e-4941-b578-920d6a8b26d0",
   "metadata": {
    "editable": true,
    "slideshow": {
     "slide_type": ""
    },
    "tags": []
   },
   "outputs": [
    {
     "data": {
      "text/plain": [
       "np.float64(161.3)"
      ]
     },
     "execution_count": 7,
     "metadata": {},
     "output_type": "execute_result"
    }
   ],
   "source": [
    "stats.norm.ppf(0.5, loc=mf, scale=stdf)"
   ]
  },
  {
   "cell_type": "markdown",
   "id": "1febea5b-918d-43f1-8bd0-0b992cd346ee",
   "metadata": {
    "editable": true,
    "slideshow": {
     "slide_type": "fragment"
    },
    "tags": []
   },
   "source": [
    "We can do the same for males."
   ]
  },
  {
   "cell_type": "code",
   "execution_count": 8,
   "id": "89724543-9c5e-4859-b8f6-6b507af9e73c",
   "metadata": {
    "editable": true,
    "slideshow": {
     "slide_type": ""
    },
    "tags": []
   },
   "outputs": [
    {
     "data": {
      "text/plain": [
       "np.float64(175.3)"
      ]
     },
     "execution_count": 8,
     "metadata": {},
     "output_type": "execute_result"
    }
   ],
   "source": [
    "stats.norm.ppf(0.5, loc=mm, scale=stdm)"
   ]
  },
  {
   "cell_type": "markdown",
   "id": "5e567d62-bc14-4e84-b482-23790e92e2fe",
   "metadata": {
    "editable": true,
    "slideshow": {
     "slide_type": "slide"
    },
    "tags": []
   },
   "source": [
    "We can look at a bunch of different percentiles to get a feel for how things vary."
   ]
  },
  {
   "cell_type": "code",
   "execution_count": 9,
   "id": "909eeecf-853f-40a5-9867-709b66307435",
   "metadata": {
    "editable": true,
    "slideshow": {
     "slide_type": ""
    },
    "tags": []
   },
   "outputs": [
    {
     "data": {
      "image/png": "[encoded data removed]",
      "text/plain": [
       "<Figure size 640x480 with 1 Axes>"
      ]
     },
     "metadata": {},
     "output_type": "display_data"
    }
   ],
   "source": [
    "qs = [.05, .2, .5, .8, .95]\n",
    "x = np.linspace(142, 180, 100)\n",
    "pdff = stats.norm.pdf(x, loc=mf, scale=stdf)\n",
    "perc = stats.norm.ppf(qs, loc=mf, scale=stdf)\n",
    "plt.plot(x, pdff, color=\"C1\")\n",
    "plt.xlabel(\"Height (cm)\")\n",
    "plt.ylabel(\"Probability density\")\n",
    "plt.vlines(perc, 0, stats.norm.pdf(perc[2], loc=mf, scale=stdf))\n",
    "for q, p in zip(qs, perc):\n",
    "    plt.text(p, .06, f\"{q * 100:.0f}\", ha=\"center\", fontsize=\"small\")"
   ]
  },
  {
   "cell_type": "markdown",
   "id": "70f78528",
   "metadata": {
    "editable": true,
    "slideshow": {
     "slide_type": "fragment"
    },
    "tags": []
   },
   "source": [
    "From this graph, we can see different percentiles for height. The 5th percentile is around 150 cm, or about 4'11\". The 95th percentile is around 173 cm, or about 5'8\"."
   ]
  },
  {
   "cell_type": "markdown",
   "id": "e5da016f-ba2d-4ab3-8d05-4b583f7201a0",
   "metadata": {
    "editable": true,
    "slideshow": {
     "slide_type": "slide"
    },
    "tags": []
   },
   "source": [
    "## Sample distributions\n",
    "Before, we looked at a case where we had a good model of the distribution of heights across people, based on a large number of observations. Usually, we have some smaller number of samples and have to estimate this distribution. We can characterize the sample using what are called *descriptive statistics*."
   ]
  },
  {
   "cell_type": "markdown",
   "id": "301051f8",
   "metadata": {
    "editable": true,
    "slideshow": {
     "slide_type": "slide"
    },
    "tags": []
   },
   "source": [
    "We can use various NumPy functions to generate random data. We'll use this to demonstrate descriptive statistics. We'll get 10,000 samples from a normal distribution with a mean of 10 and a standard deviation of 2."
   ]
  },
  {
   "cell_type": "code",
   "execution_count": 10,
   "id": "7c9d4299-e4c2-4b6e-ab9e-5e10daf8aa4a",
   "metadata": {
    "editable": true,
    "slideshow": {
     "slide_type": ""
    },
    "tags": []
   },
   "outputs": [],
   "source": [
    "rng = np.random.default_rng(42)\n",
    "x = rng.normal(loc=10, scale=2, size=10000)"
   ]
  },
  {
   "cell_type": "markdown",
   "id": "ebce51c2",
   "metadata": {
    "editable": true,
    "slideshow": {
     "slide_type": "fragment"
    },
    "tags": []
   },
   "source": [
    "As we saw before, we can visualize samples using a histogram."
   ]
  },
  {
   "cell_type": "code",
   "execution_count": 11,
   "id": "ca495022",
   "metadata": {
    "editable": true,
    "slideshow": {
     "slide_type": ""
    },
    "tags": []
   },
   "outputs": [
    {
     "data": {
      "image/png": "[encoded data removed]",
      "text/plain": [
       "<Figure size 640x480 with 1 Axes>"
      ]
     },
     "metadata": {},
     "output_type": "display_data"
    }
   ],
   "source": [
    "values, edges, patches = plt.hist(x, 20)"
   ]
  },
  {
   "cell_type": "markdown",
   "id": "644d02da-27a8-457e-a288-570ef4d8b783",
   "metadata": {
    "editable": true,
    "slideshow": {
     "slide_type": "slide"
    },
    "tags": []
   },
   "source": [
    "## Measures of central tendency\n",
    "\n",
    "One simple question we can ask about a sample is what the *central tendency* of it is. We have seen the *mean* used before. It's calculated by summing up all the observations and dividing by the number of observations. \n",
    "\n",
    "The mean is defined as:\n",
    "\n",
    "$$\n",
    "\\bar{x} = \\frac{1}{N} \\sum_{i}^{N} x_i\n",
    "$$\n",
    "\n",
    "where $x_i$ corresponds to each sample and $N$ is the number of observations."
   ]
  },
  {
   "cell_type": "markdown",
   "id": "5f5d5c8f",
   "metadata": {
    "editable": true,
    "slideshow": {
     "slide_type": "slide"
    },
    "tags": []
   },
   "source": [
    "We can calculate the mean using `np.mean`."
   ]
  },
  {
   "cell_type": "code",
   "execution_count": 12,
   "id": "0120285b-d4bc-47a1-83b2-c8b1dc4862cf",
   "metadata": {
    "editable": true,
    "slideshow": {
     "slide_type": ""
    },
    "tags": []
   },
   "outputs": [
    {
     "data": {
      "text/plain": [
       "np.float64(9.979500249171977)"
      ]
     },
     "execution_count": 12,
     "metadata": {},
     "output_type": "execute_result"
    }
   ],
   "source": [
    "np.mean(x)"
   ]
  },
  {
   "cell_type": "markdown",
   "id": "8146049c",
   "metadata": {
    "editable": true,
    "slideshow": {
     "slide_type": "fragment"
    },
    "tags": []
   },
   "source": [
    "We can also calculate the *median*, which is the center observation after ranking the data, using `np.median`."
   ]
  },
  {
   "cell_type": "code",
   "execution_count": 13,
   "id": "4662cb7a",
   "metadata": {},
   "outputs": [
    {
     "data": {
      "text/plain": [
       "np.float64(9.97366499315477)"
      ]
     },
     "execution_count": 13,
     "metadata": {},
     "output_type": "execute_result"
    }
   ],
   "source": [
    "np.median(x)"
   ]
  },
  {
   "cell_type": "markdown",
   "id": "945503dc-22d6-4cf9-9902-4746af4e9a11",
   "metadata": {
    "editable": true,
    "slideshow": {
     "slide_type": "slide"
    },
    "tags": []
   },
   "source": [
    "We can visualize the mean and median by plotting them on the histogram."
   ]
  },
  {
   "cell_type": "code",
   "execution_count": 14,
   "id": "8b5970be-57ab-4b57-aa5d-068f76164755",
   "metadata": {
    "editable": true,
    "slideshow": {
     "slide_type": ""
    },
    "tags": []
   },
   "outputs": [
    {
     "data": {
      "image/png": "[encoded data removed]",
      "text/plain": [
       "<Figure size 640x480 with 1 Axes>"
      ]
     },
     "metadata": {},
     "output_type": "display_data"
    }
   ],
   "source": [
    "h = plt.hist(x, 20)\n",
    "h1 = plt.vlines(np.mean(x), 0, 2000, color=\"red\")\n",
    "h2 = plt.vlines(np.median(x), 0, 2000, color=\"purple\")\n",
    "plt.legend([h1, h2], [\"mean\", \"median\"]);"
   ]
  },
  {
   "cell_type": "markdown",
   "id": "0a140bfe",
   "metadata": {
    "editable": true,
    "slideshow": {
     "slide_type": "fragment"
    },
    "tags": []
   },
   "source": [
    "Note that the mean and median are similar here. This is because the distribution is roughly symmetric."
   ]
  },
  {
   "cell_type": "markdown",
   "id": "36a90e28",
   "metadata": {
    "editable": true,
    "slideshow": {
     "slide_type": "slide"
    },
    "tags": []
   },
   "source": [
    "Sometimes, data will have a *skew* to it, where it is not symmetric around the mean. Response time distributions have what's called a \"long tail\", where most responses are fast, but sometimes a response is much slower than usual.\n",
    "\n",
    "For this example, we'll use an *exponentially modified normal* distribution to simulate a distribution of response times. NumPy doesn't support this distribution directly, so we'll use SciPy's Stats module instead. It has many distributions that are useful in science. Among other things, the `rvs` method of each distribution allows us to generate random samples from the distribution."
   ]
  },
  {
   "cell_type": "code",
   "execution_count": 15,
   "id": "51957ffb",
   "metadata": {},
   "outputs": [
    {
     "data": {
      "image/png": "[encoded data removed]",
      "text/plain": [
       "<Figure size 640x480 with 1 Axes>"
      ]
     },
     "metadata": {},
     "output_type": "display_data"
    }
   ],
   "source": [
    "sim_response_time = stats.exponnorm.rvs(3, loc=4, scale=.2, size=500, random_state=42)\n",
    "plt.hist(sim_response_time)\n",
    "h1 = plt.vlines(np.mean(sim_response_time), 0, 150, color=\"red\")\n",
    "h2 = plt.vlines(np.median(sim_response_time), 0, 150, color=\"purple\")\n",
    "plt.legend([h1, h2], [\"mean\", \"median\"]);"
   ]
  },
  {
   "cell_type": "markdown",
   "id": "8b84bc9e",
   "metadata": {
    "editable": true,
    "slideshow": {
     "slide_type": "fragment"
    },
    "tags": []
   },
   "source": [
    "Note that the median is further to the left, because it's based on the rank of the observations. The few very long response times don't affect it much. In contrast, the long response times do affect the mean, shifting it to the right. Sometimes, the median makes a better measure of central tendency, because it isn't as influenced by these *outliers*."
   ]
  },
  {
   "cell_type": "markdown",
   "id": "c41bed8b-ebca-4e4c-8fa3-123994643f48",
   "metadata": {
    "editable": true,
    "slideshow": {
     "slide_type": "slide"
    },
    "tags": []
   },
   "source": [
    "### Exercise: measures of central tendency\n",
    "\n",
    "Take the randomly generated data array `y`, created below, and calculate the mean and median."
   ]
  },
  {
   "cell_type": "code",
   "execution_count": 16,
   "id": "7cd308d6-4b9d-4637-804c-40cc9457bcef",
   "metadata": {
    "editable": true,
    "slideshow": {
     "slide_type": ""
    },
    "tags": []
   },
   "outputs": [],
   "source": [
    "rng = np.random.default_rng(1)\n",
    "y = rng.normal(loc=5, scale=3, size=1000)\n",
    "# answer here"
   ]
  },
  {
   "cell_type": "markdown",
   "id": "e2a95ec9-b1c9-4246-88df-7f2cb25275c7",
   "metadata": {
    "editable": true,
    "slideshow": {
     "slide_type": "slide"
    },
    "tags": []
   },
   "source": [
    "## Measures of spread\n",
    "\n",
    "The other main measure we'll use measures the *spread* of the distribution. We know the mean of our distribution is around 10, but how much does each observation deviate from that? Are we likely to see a sample of 15? 20? The standard deviation basically measures the average distance of observations from the mean.\n",
    "\n",
    "More specifically, it is defined as\n",
    "\n",
    "$$\n",
    "\\sigma = \\sqrt{\\frac{1}{N - 1} \\sum_{i=1}^{N} (x_i - \\bar{x})^2}\n",
    "$$"
   ]
  },
  {
   "cell_type": "markdown",
   "id": "1579bb34-a1b5-4ea4-a970-12ec60bfb492",
   "metadata": {
    "editable": true,
    "slideshow": {
     "slide_type": "slide"
    },
    "tags": []
   },
   "source": [
    "The spread of a distribution is an important property, which can be used to compare distributions. For example, two distributions might have the same mean but different standard deviations, indicating that one is more variable than the other."
   ]
  },
  {
   "cell_type": "code",
   "execution_count": 17,
   "id": "2b302727",
   "metadata": {
    "editable": true,
    "slideshow": {
     "slide_type": ""
    },
    "tags": []
   },
   "outputs": [
    {
     "name": "stdout",
     "output_type": "stream",
     "text": [
      "2.876921114150091 1.017357424937711\n"
     ]
    },
    {
     "data": {
      "image/png": "[encoded data removed]",
      "text/plain": [
       "<Figure size 640x480 with 1 Axes>"
      ]
     },
     "metadata": {},
     "output_type": "display_data"
    }
   ],
   "source": [
    "rng = np.random.default_rng(42)\n",
    "d1 = rng.normal(loc=3, scale=3, size=500)\n",
    "d2 = rng.normal(loc=3, scale=1, size=500)\n",
    "_, _, h1 = plt.hist(d1)\n",
    "_, _, h2 = plt.hist(d2)\n",
    "plt.legend([h1, h2], [\"Std. dev. = 3\", \"Std. dev. = 1\"])\n",
    "print(np.std(d1), np.std(d2))"
   ]
  },
  {
   "cell_type": "markdown",
   "id": "fd567c8e",
   "metadata": {
    "editable": true,
    "slideshow": {
     "slide_type": "slide"
    },
    "tags": []
   },
   "source": [
    "One way to use the standard deviation is as a measure of how far away a sample is from the mean of the distribution. For example, we might look at one sample around 14, and say that it's more than two standard deviations above the mean."
   ]
  },
  {
   "cell_type": "code",
   "execution_count": 18,
   "id": "12e3e013-7c92-4cbd-afe3-9d0917508a72",
   "metadata": {
    "editable": true,
    "slideshow": {
     "slide_type": ""
    },
    "tags": []
   },
   "outputs": [
    {
     "data": {
      "image/png": "[encoded data removed]",
      "text/plain": [
       "<Figure size 640x480 with 1 Axes>"
      ]
     },
     "metadata": {},
     "output_type": "display_data"
    }
   ],
   "source": [
    "rng = np.random.default_rng(42)\n",
    "x = rng.normal(loc=10, scale=2, size=10000)\n",
    "m = np.mean(x)\n",
    "sd = np.std(x)\n",
    "h = plt.hist(x, 20)\n",
    "vxs = [m - sd * 2, m - sd, m, m + sd, m + sd * 2]\n",
    "vts = [\"-2 SD\", \"-1 SD\", \"Mean\", \"+1 SD\", \"+2 SD\"]\n",
    "plt.vlines(vxs, 0, 2000, color=\"red\")\n",
    "for vx, vt in zip(vxs, vts):\n",
    "    plt.text(vx, 2200, vt, ha=\"center\", fontsize=\"x-small\")"
   ]
  },
  {
   "cell_type": "markdown",
   "id": "ecdeddb2",
   "metadata": {
    "editable": true,
    "slideshow": {
     "slide_type": "slide"
    },
    "tags": []
   },
   "source": [
    "Another simple measure of the spread of a set of data is the *range* that it takes, which is defined as the maximum minus the minimum. We can get the maximum and minimum of a set of observations using the `np.min` and `np.max` functions."
   ]
  },
  {
   "cell_type": "code",
   "execution_count": 19,
   "id": "b753b963",
   "metadata": {},
   "outputs": [
    {
     "name": "stdout",
     "output_type": "stream",
     "text": [
      "Min: 1.22; Max: 18.05; Range: 16.83\n"
     ]
    }
   ],
   "source": [
    "x_min = np.min(x)\n",
    "x_max = np.max(x)\n",
    "x_range = x_max - x_min\n",
    "print(f\"Min: {x_min:.2f}; Max: {x_max:.2f}; Range: {x_range:.2f}\")"
   ]
  },
  {
   "cell_type": "markdown",
   "id": "bb0f7a83",
   "metadata": {
    "editable": true,
    "slideshow": {
     "slide_type": "fragment"
    },
    "tags": []
   },
   "source": [
    "Here, to make the output easier to look at, we use a feature of f-strings. By adding `:.2f` at the end, we indicate that the number should be printed out to two decimals."
   ]
  },
  {
   "cell_type": "markdown",
   "id": "d34209ab-670a-4cd8-9c4c-ac6415875c7f",
   "metadata": {
    "editable": true,
    "slideshow": {
     "slide_type": "slide"
    },
    "tags": []
   },
   "source": [
    "### Exercise: measures of spread\n",
    "\n",
    "Take the randomly generated data array `y`, created below, and calculate the standard deviation, minimum, maximum, and range."
   ]
  },
  {
   "cell_type": "code",
   "execution_count": 20,
   "id": "78d191b5-32aa-4cf2-9b49-2400bfecb276",
   "metadata": {
    "editable": true,
    "slideshow": {
     "slide_type": ""
    },
    "tags": []
   },
   "outputs": [],
   "source": [
    "rng = np.random.default_rng(1)\n",
    "y = rng.normal(loc=5, scale=3, size=1000)\n",
    "# answer here"
   ]
  },
  {
   "cell_type": "markdown",
   "id": "c1cd86b9",
   "metadata": {
    "editable": true,
    "slideshow": {
     "slide_type": "slide"
    },
    "tags": []
   },
   "source": [
    "## Percentiles\n",
    "We can calculate percentiles to help us get a feel for how values vary across a sample distribution. We can calculate percentiles of an array using `np.percentile`."
   ]
  },
  {
   "cell_type": "code",
   "execution_count": 21,
   "id": "53ae5ce2",
   "metadata": {
    "editable": true,
    "slideshow": {
     "slide_type": ""
    },
    "tags": []
   },
   "outputs": [
    {
     "name": "stdout",
     "output_type": "stream",
     "text": [
      "[ 6.65181303  8.30250363  9.97366499 11.64108528 13.28547999]\n"
     ]
    }
   ],
   "source": [
    "rng = np.random.default_rng(42)\n",
    "x = rng.normal(loc=10, scale=2, size=10000)\n",
    "qs = [5, 20, 50, 80, 95]\n",
    "perc = np.percentile(x, qs)\n",
    "print(perc)"
   ]
  },
  {
   "cell_type": "markdown",
   "id": "d50e0570",
   "metadata": {
    "editable": true,
    "slideshow": {
     "slide_type": "slide"
    },
    "tags": []
   },
   "source": [
    "We'll visualize this using a histogram plot with lines to indicate where the percentiles are."
   ]
  },
  {
   "cell_type": "code",
   "execution_count": 22,
   "id": "e83342d2",
   "metadata": {
    "editable": true,
    "slideshow": {
     "slide_type": ""
    },
    "tags": []
   },
   "outputs": [
    {
     "data": {
      "image/png": "[encoded data removed]",
      "text/plain": [
       "<Figure size 640x480 with 1 Axes>"
      ]
     },
     "metadata": {},
     "output_type": "display_data"
    }
   ],
   "source": [
    "plt.hist(x, 20)\n",
    "plt.vlines(perc, 0, 1750, color=\"red\")\n",
    "for q, p in zip(qs, perc):\n",
    "    plt.text(p, 1800, f\"{q}\", ha=\"center\", fontsize=\"small\")"
   ]
  },
  {
   "cell_type": "markdown",
   "id": "7eb04f68-ae1b-4a01-9134-d5ed34d4e1e9",
   "metadata": {
    "editable": true,
    "slideshow": {
     "slide_type": "slide"
    },
    "tags": []
   },
   "source": [
    "### Exercise: percentiles\n",
    "\n",
    "Take the randomly generated data array `y`, created below, and calculate the 10th, 50th, and 90th percentiles."
   ]
  },
  {
   "cell_type": "code",
   "execution_count": 23,
   "id": "ddfd9edb-8fb0-4735-8e2c-e40bfeef6806",
   "metadata": {
    "editable": true,
    "slideshow": {
     "slide_type": ""
    },
    "tags": []
   },
   "outputs": [],
   "source": [
    "rng = np.random.default_rng(1)\n",
    "y = rng.normal(loc=5, scale=3, size=1000)\n",
    "# answer here"
   ]
  },
  {
   "cell_type": "markdown",
   "id": "028b3fa0-572a-4090-a4c4-03f5782d61d2",
   "metadata": {
    "editable": true,
    "slideshow": {
     "slide_type": "slide"
    },
    "tags": []
   },
   "source": [
    "## Missing data\n",
    "Sometimes, we have some observations that are *missing*. For example, say we had two different psychology tasks that study participants completed, but some participants didn't complete the second study. In that case, their accuracy on the second task would be missing. NumPy arrays have a special value for representing missing data: `NaN`, which stands for not-a-number. We can assign this value to part of an array by using the special value `np.nan`."
   ]
  },
  {
   "cell_type": "code",
   "execution_count": 24,
   "id": "df4d31d6",
   "metadata": {},
   "outputs": [],
   "source": [
    "participant_ids = np.array([\"001\", \"002\", \"003\", \"004\", \"005\", \"006\"])\n",
    "accuracy1 = np.array([0.87, 0.68, 0.49, 0.57, 0.72, 0.51])\n",
    "accuracy2 = np.array([0.72, 0.54, np.nan, 0.48, np.nan, 0.82])"
   ]
  },
  {
   "cell_type": "markdown",
   "id": "c96a462b",
   "metadata": {
    "editable": true,
    "slideshow": {
     "slide_type": "slide"
    },
    "tags": []
   },
   "source": [
    "There are special rules for `NaN` values. Generally, any operation that includes a `NaN` will result in `NaN`."
   ]
  },
  {
   "cell_type": "code",
   "execution_count": 25,
   "id": "b430bb76",
   "metadata": {},
   "outputs": [
    {
     "name": "stdout",
     "output_type": "stream",
     "text": [
      "nan\n",
      "nan\n",
      "False\n"
     ]
    }
   ],
   "source": [
    "print(np.nan + 4)\n",
    "print(np.nan * 2)\n",
    "print(np.nan == np.nan)"
   ]
  },
  {
   "cell_type": "markdown",
   "id": "6b30433f",
   "metadata": {
    "editable": true,
    "slideshow": {
     "slide_type": "fragment"
    },
    "tags": []
   },
   "source": [
    "Notice that last rule; `NaN` isn't equal to anything, even another `NaN`!"
   ]
  },
  {
   "cell_type": "markdown",
   "id": "eff24c38",
   "metadata": {
    "editable": true,
    "slideshow": {
     "slide_type": "slide"
    },
    "tags": []
   },
   "source": [
    "We can check for a `NaN` using special functions. The `np.isnan` function will check each element of an array and tell us what is `NaN`."
   ]
  },
  {
   "cell_type": "code",
   "execution_count": 26,
   "id": "6660d917",
   "metadata": {},
   "outputs": [
    {
     "data": {
      "text/plain": [
       "array([False, False, False,  True])"
      ]
     },
     "execution_count": 26,
     "metadata": {},
     "output_type": "execute_result"
    }
   ],
   "source": [
    "a = np.array([1, 2, 3, np.nan])\n",
    "np.isnan(a)"
   ]
  },
  {
   "cell_type": "markdown",
   "id": "1e9899b9",
   "metadata": {
    "editable": true,
    "slideshow": {
     "slide_type": "fragment"
    },
    "tags": []
   },
   "source": [
    "If we want to reverse this, to get the non-`NaN` elements, we can use the not (`~`) operator."
   ]
  },
  {
   "cell_type": "code",
   "execution_count": 27,
   "id": "4e0f2890",
   "metadata": {},
   "outputs": [
    {
     "data": {
      "text/plain": [
       "array([1., 2., 3.])"
      ]
     },
     "execution_count": 27,
     "metadata": {},
     "output_type": "execute_result"
    }
   ],
   "source": [
    "a[~np.isnan(a)]"
   ]
  },
  {
   "cell_type": "markdown",
   "id": "6123e788",
   "metadata": {
    "editable": true,
    "slideshow": {
     "slide_type": "slide"
    },
    "tags": []
   },
   "source": [
    "Why would we want to have such a strange thing as `NaN` values in our variables? Because it lets us indicate a placeholder when a datapoint is missing, and keeps us from making a mistake when using placeholder values in calculations. If I don't know what value a variable would have had, because I didn't actually measure it, then I also don't know the results of calculations with that variable.\n",
    "\n",
    "For example, if I did not record the accuracy score of one of three participants, then I have no way of calculating their mean accuracy. Python will tell me that their mean accuracy is `NaN`, as it should."
   ]
  },
  {
   "cell_type": "code",
   "execution_count": 28,
   "id": "448af44b",
   "metadata": {},
   "outputs": [
    {
     "data": {
      "text/plain": [
       "nan"
      ]
     },
     "execution_count": 28,
     "metadata": {},
     "output_type": "execute_result"
    }
   ],
   "source": [
    "accuracy1 = 7\n",
    "accuracy2 = np.nan\n",
    "accuracy3 = 9\n",
    "(accuracy1 + accuracy2 + accuracy3) / 3"
   ]
  },
  {
   "cell_type": "markdown",
   "id": "7fd1a0a2",
   "metadata": {
    "editable": true,
    "slideshow": {
     "slide_type": "slide"
    },
    "tags": []
   },
   "source": [
    "There is another question that I could ask, though; what is the average accuracy, excluding missing values? NumPy has special functions that work this way, making calculations that only include the defined values in an array, ignoring `NaN` values. These functions have the same names as the usual functions, but with `nan` in front of them."
   ]
  },
  {
   "cell_type": "code",
   "execution_count": 29,
   "id": "8609c61b",
   "metadata": {},
   "outputs": [
    {
     "name": "stdout",
     "output_type": "stream",
     "text": [
      "nan\n",
      "8.0\n"
     ]
    }
   ],
   "source": [
    "accuracy = np.array([accuracy1, accuracy2, accuracy3])\n",
    "print(np.mean(accuracy))\n",
    "print(np.nanmean(accuracy))"
   ]
  },
  {
   "cell_type": "markdown",
   "id": "b308bb8c",
   "metadata": {
    "editable": true,
    "slideshow": {
     "slide_type": "fragment"
    },
    "tags": []
   },
   "source": [
    "Keep in mind that this isn't quite the same thing as a normal mean. We're just ignoring the score for the second participant, acting like it doesn't exist, and using the scores for the first and third participants. Often that will be useful to know, but by default NumPy will just tell you that the answer is `NaN`, because there's no way to know what the mean would really be without knowing the value of all the samples going into that mean."
   ]
  },
  {
   "cell_type": "markdown",
   "id": "788b88ac-1bf7-46da-8c07-5c7d671abe6e",
   "metadata": {
    "editable": true,
    "slideshow": {
     "slide_type": "slide"
    },
    "tags": []
   },
   "source": [
    "### Exercise: missing data\n",
    "\n",
    "Define an array with memory scores: 12, 15, 11, n/a, 9, n/a, n/a. The scores that are \"n/a\" are missing; use `NaN` to indicate those missing scores.\n",
    "\n",
    "Use NumPy functions to calculate the number of missing scores. Then calculate the mean and median with the missing scores excluded."
   ]
  },
  {
   "cell_type": "code",
   "execution_count": 30,
   "id": "f2d49d83-3f6a-4916-bc64-59996a9e0e15",
   "metadata": {
    "editable": true,
    "slideshow": {
     "slide_type": ""
    },
    "tags": []
   },
   "outputs": [],
   "source": [
    "# answer here"
   ]
  }
 ],
 "metadata": {
  "kernelspec": {
   "display_name": ".venv",
   "language": "python",
   "name": "python3"
  },
  "language_info": {
   "codemirror_mode": {
    "name": "ipython",
    "version": 3
   },
   "file_extension": ".py",
   "mimetype": "text/x-python",
   "name": "python",
   "nbconvert_exporter": "python",
   "pygments_lexer": "ipython3",
   "version": "3.12.8"
  }
 },
 "nbformat": 4,
 "nbformat_minor": 5
}
