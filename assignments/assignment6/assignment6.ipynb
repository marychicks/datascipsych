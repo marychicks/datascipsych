{
 "cells": [
  {
   "cell_type": "markdown",
   "metadata": {},
   "source": [
    "# Assignment 6\n",
    "\n",
    "Please fill in blanks in the *Answer* sections of this notebook. To check your answer for a problem, run the Setup, Answer, and Result sections. DO NOT MODIFY SETUP OR RESULT CELLS. See the [README](https://github.com/mortonne/datascipsych) for instructions on setting up a Python environment to run this notebook.\n",
    "\n",
    "Write your answers for each problem. Then restart the kernel, run all cells, and then save the notebook. Upload your notebook to Canvas.\n",
    "\n",
    "If you get stuck, read through the other notebooks in this directory, ask us for help in class, or ask other students for help in class or on the weekly discussion board."
   ]
  },
  {
   "cell_type": "markdown",
   "metadata": {},
   "source": [
    "## Problem: plotting a histogram (2 points)\n",
    "For the array `x` (defined below), plot a histogram with 15 bins. Get the values of the histogram bins and and the edges of the bins."
   ]
  },
  {
   "cell_type": "markdown",
   "metadata": {},
   "source": [
    "### Setup"
   ]
  },
  {
   "cell_type": "code",
   "execution_count": 1,
   "metadata": {},
   "outputs": [],
   "source": [
    "import numpy as np\n",
    "x = np.array([8.2, 10.4, 9.7, 8.5, 8.9, 9.2, 12.4, 15.2, 11.8, 7.8, 7.2, 8.1, 8.3, 9.5, 9.9])\n",
    "x_values = None\n",
    "x_edges = None"
   ]
  },
  {
   "cell_type": "markdown",
   "metadata": {},
   "source": [
    "### Answer"
   ]
  },
  {
   "cell_type": "code",
   "execution_count": 2,
   "metadata": {},
   "outputs": [],
   "source": [
    "# your code here (should display a histogram below this cell)"
   ]
  },
  {
   "cell_type": "markdown",
   "metadata": {},
   "source": [
    "### Result"
   ]
  },
  {
   "cell_type": "code",
   "execution_count": 3,
   "metadata": {},
   "outputs": [],
   "source": [
    "vars = [x_values, x_edges]\n",
    "if all([v is not None for v in vars]):\n",
    "    # this should print your variables\n",
    "    print(x_values)\n",
    "    print(x_edges)\n",
    "\n",
    "    # this should not throw any errors\n",
    "    assert np.array_equal(x_values, np.array([2, 4, 3, 2, 1, 1, 1, 0, 0, 1]))\n",
    "    assert np.array_equal(\n",
    "        np.round(x_edges, 1), \n",
    "        np.array([7.2, 8.0, 8.8, 9.6, 10.4, 11.2, 12.0, 12.8, 13.6, 14.4, 15.2])\n",
    "    )"
   ]
  },
  {
   "cell_type": "markdown",
   "metadata": {},
   "source": [
    "## Problem: mesaures of central tendency (2 points)\n",
    "Given the data array `x` (defined below), use NumPy functions to calculate the mean and median."
   ]
  },
  {
   "cell_type": "markdown",
   "metadata": {},
   "source": [
    "### Setup"
   ]
  },
  {
   "cell_type": "code",
   "execution_count": 4,
   "metadata": {},
   "outputs": [],
   "source": [
    "x = np.array([8.2, 10.4, 9.7, 8.5, 8.9, 9.2, 12.4, 15.2, 11.8, 7.8, 7.2, 8.1, 8.3, 9.5, 9.9])\n",
    "x_median = None\n",
    "x_mean = None"
   ]
  },
  {
   "cell_type": "markdown",
   "metadata": {},
   "source": [
    "### Answer"
   ]
  },
  {
   "cell_type": "code",
   "execution_count": 5,
   "metadata": {},
   "outputs": [],
   "source": [
    "# your code here"
   ]
  },
  {
   "cell_type": "markdown",
   "metadata": {},
   "source": [
    "### Result"
   ]
  },
  {
   "cell_type": "code",
   "execution_count": 6,
   "metadata": {},
   "outputs": [],
   "source": [
    "vars = [x_median, x_mean]\n",
    "if all([v is not None for v in vars]):\n",
    "    # this should print your stats\n",
    "    print(x_median, x_mean)\n",
    "    \n",
    "    # this should not throw any errors\n",
    "    assert x_median == 9.20\n",
    "    assert round(x_mean, 2) == 9.67\n"
   ]
  },
  {
   "cell_type": "markdown",
   "metadata": {},
   "source": [
    "## Problem: measures of spread (2 points)\n",
    "Given the data array `x` defined below, use NumPy functions to calculate the standard deviation and range (that is, the maximum minus the minimum)."
   ]
  },
  {
   "cell_type": "markdown",
   "metadata": {},
   "source": [
    "### Setup"
   ]
  },
  {
   "cell_type": "code",
   "execution_count": 7,
   "metadata": {},
   "outputs": [],
   "source": [
    "x = np.array([8.2, 10.4, 9.7, 8.5, 8.9, 9.2, 12.4, 15.2, 11.8, 7.8, 7.2, 8.1, 8.3, 9.5, 9.9])\n",
    "x_sd = None\n",
    "x_range = None"
   ]
  },
  {
   "cell_type": "markdown",
   "metadata": {},
   "source": [
    "### Answer"
   ]
  },
  {
   "cell_type": "code",
   "execution_count": 8,
   "metadata": {},
   "outputs": [],
   "source": [
    "# your code here"
   ]
  },
  {
   "cell_type": "markdown",
   "metadata": {},
   "source": [
    "### Result"
   ]
  },
  {
   "cell_type": "code",
   "execution_count": 9,
   "metadata": {},
   "outputs": [],
   "source": [
    "vars = [x_sd, x_range]\n",
    "if all([v is not None for v in vars]):\n",
    "    # this should print your stat\n",
    "    print(x_sd, x_range)\n",
    "    \n",
    "    # this should not throw any errors\n",
    "    assert round(x_sd, 2) == 2.02\n",
    "    assert round(x_range, 2) == 8.00"
   ]
  },
  {
   "cell_type": "markdown",
   "metadata": {},
   "source": [
    "## Problem: percentiles (2 points)\n",
    "For the array `x` defined below, calculate the 10th, 20th, 50th, 80th, and 90th percentiles using a NumPy function."
   ]
  },
  {
   "cell_type": "markdown",
   "metadata": {},
   "source": [
    "### Setup"
   ]
  },
  {
   "cell_type": "code",
   "execution_count": 10,
   "metadata": {},
   "outputs": [],
   "source": [
    "x = np.array([8.2, 10.4, 9.7, 8.5, 8.9, 9.2, 12.4, 15.2, 11.8, 7.8, 7.2, 8.1, 8.3, 9.5, 9.9])\n",
    "x_perc = None  # an array with all the percentiles listed above"
   ]
  },
  {
   "cell_type": "markdown",
   "metadata": {},
   "source": [
    "### Answer"
   ]
  },
  {
   "cell_type": "code",
   "execution_count": 11,
   "metadata": {},
   "outputs": [],
   "source": [
    "# your code here"
   ]
  },
  {
   "cell_type": "markdown",
   "metadata": {},
   "source": [
    "### Result"
   ]
  },
  {
   "cell_type": "code",
   "execution_count": 12,
   "metadata": {},
   "outputs": [],
   "source": [
    "\n",
    "vars = [x_perc]\n",
    "if all([v is not None for v in vars]):\n",
    "    # this should print your stats\n",
    "    print(x_perc)\n",
    "\n",
    "    # this should not throw any errors\n",
    "    assert np.array_equal(np.round(x_perc, 2), np.array([7.92, 8.18, 9.20, 10.68, 12.16]))"
   ]
  },
  {
   "cell_type": "markdown",
   "metadata": {},
   "source": [
    "## Problem: handling missing data (2 points)\n",
    "Given the array `y`, which includes missing data as NaN, use a NumPy function to calculate the mean, with NaNs excluded. Also use NumPy functions to calculate the number of missing data points."
   ]
  },
  {
   "cell_type": "markdown",
   "metadata": {},
   "source": [
    "### Setup"
   ]
  },
  {
   "cell_type": "code",
   "execution_count": 13,
   "metadata": {},
   "outputs": [],
   "source": [
    "y = np.array([1.2, 3.4, np.nan, 2.6, np.nan, 3.1])\n",
    "y_mean = None\n",
    "y_missing = None"
   ]
  },
  {
   "cell_type": "markdown",
   "metadata": {},
   "source": [
    "### Answer"
   ]
  },
  {
   "cell_type": "code",
   "execution_count": 14,
   "metadata": {},
   "outputs": [],
   "source": [
    "# your code here"
   ]
  },
  {
   "cell_type": "markdown",
   "metadata": {},
   "source": [
    "### Result"
   ]
  },
  {
   "cell_type": "code",
   "execution_count": 15,
   "metadata": {},
   "outputs": [],
   "source": [
    "vars = [y_mean, y_missing]\n",
    "if all([v is not None for v in vars]):\n",
    "    # this should print your stats\n",
    "    print(y_mean, y_missing)\n",
    "\n",
    "    # this should not throw any errors\n",
    "    assert round(y_mean, 3) == 2.575\n",
    "    assert y_missing == 2"
   ]
  },
  {
   "cell_type": "markdown",
   "metadata": {},
   "source": [
    "## Problem: handling conditions and missing data (2 points)\n",
    "Given the array `z` and condition labels `c`, calculate the mean value of `z` for condition 1 and condition 2, excluding missing data. Hint: you will need to filter `z` by indexing it with a boolean array."
   ]
  },
  {
   "cell_type": "markdown",
   "metadata": {},
   "source": [
    "### Setup"
   ]
  },
  {
   "cell_type": "code",
   "execution_count": 16,
   "metadata": {},
   "outputs": [],
   "source": [
    "z = np.array([1, 3, 5, 2, 7, 9, np.nan, 2, 3, np.nan, 4, 7])\n",
    "c = np.array([1, 1, 1, 2, 2, 2, 1, 1, 1, 2, 2, 2])\n",
    "c1_mean = None\n",
    "c2_mean = None"
   ]
  },
  {
   "cell_type": "markdown",
   "metadata": {},
   "source": [
    "### Answer"
   ]
  },
  {
   "cell_type": "code",
   "execution_count": 17,
   "metadata": {},
   "outputs": [],
   "source": [
    "# your code here"
   ]
  },
  {
   "cell_type": "markdown",
   "metadata": {},
   "source": [
    "### Result"
   ]
  },
  {
   "cell_type": "code",
   "execution_count": 18,
   "metadata": {},
   "outputs": [],
   "source": [
    "vars = [c1_mean, c2_mean]\n",
    "if all([v is not None for v in vars]):\n",
    "    # this should print your arrays\n",
    "    print(c1_mean, c2_mean)\n",
    "    \n",
    "    # this should not throw any errors\n",
    "    assert c1_mean == 2.8\n",
    "    assert c2_mean == 5.8"
   ]
  },
  {
   "cell_type": "markdown",
   "metadata": {},
   "source": [
    "## Problem (graduate students): two-dimensional arrays (2 points)\n",
    "\n",
    "Many NumPy functions take an optional `axis` argument, which can be used to calculate that function across just one axis of a multi-dimensional array. If an axis is not specified, then the function will operate over all elements of the array, collapsing over all dimensions.\n",
    "\n",
    "Given the array `m`, defined below, calculate the mean for each dimension and the overall mean. The `mean_cols` variable should have the mean value for each column, averaged across rows. The `mean_rows` variable should have the mean for each row, averaged across columns. The `mean_overall` variable should have the overall mean across all elements, regardless of row or column."
   ]
  },
  {
   "cell_type": "markdown",
   "metadata": {},
   "source": [
    "### Setup"
   ]
  },
  {
   "cell_type": "code",
   "execution_count": 19,
   "metadata": {},
   "outputs": [],
   "source": [
    "m = np.array([[1, 2, 3], [4, 5, 6], [7, 8, 9]])\n",
    "mean_cols = None\n",
    "mean_rows = None\n",
    "mean_overall = None"
   ]
  },
  {
   "cell_type": "markdown",
   "metadata": {},
   "source": [
    "### Answer"
   ]
  },
  {
   "cell_type": "code",
   "execution_count": 20,
   "metadata": {},
   "outputs": [],
   "source": [
    "# your code here"
   ]
  },
  {
   "cell_type": "markdown",
   "metadata": {},
   "source": [
    "### Result"
   ]
  },
  {
   "cell_type": "code",
   "execution_count": 21,
   "metadata": {},
   "outputs": [],
   "source": [
    "vars = [mean_cols, mean_rows, mean_overall]\n",
    "if all([v is not None for v in vars]):\n",
    "    # this should print your arrays\n",
    "    print(mean_cols)\n",
    "    print(mean_rows)\n",
    "    print(mean_overall)\n",
    "    \n",
    "    # this should not throw any errors\n",
    "    assert np.array_equal(mean_cols, np.array([4, 5, 6]))\n",
    "    assert np.array_equal(mean_rows, np.array([2, 5, 8]))\n",
    "    assert mean_overall == 5.0"
   ]
  },
  {
   "cell_type": "markdown",
   "metadata": {},
   "source": [
    "## Problem (graduate students): random number generation (2 points)\n",
    "\n",
    "Read about [random number generation](https://numpy.org/devdocs/reference/random/index.html#numpyrandom) in NumPy. Use `numpy.random.default_rng` to create a random number generator with seed 42. Then use the `normal` method of the RNG to generate 10 random normally distributed numbers in an array `r`, with a mean of 2 and a standard deviation of 1.5."
   ]
  },
  {
   "cell_type": "markdown",
   "metadata": {},
   "source": [
    "### Setup"
   ]
  },
  {
   "cell_type": "code",
   "execution_count": 22,
   "metadata": {},
   "outputs": [],
   "source": [
    "r = None"
   ]
  },
  {
   "cell_type": "markdown",
   "metadata": {},
   "source": [
    "### Answer"
   ]
  },
  {
   "cell_type": "code",
   "execution_count": 23,
   "metadata": {},
   "outputs": [],
   "source": [
    "# your code here"
   ]
  },
  {
   "cell_type": "markdown",
   "metadata": {},
   "source": [
    "### Result"
   ]
  },
  {
   "cell_type": "code",
   "execution_count": 24,
   "metadata": {},
   "outputs": [],
   "source": [
    "vars = [r]\n",
    "if all([v is not None for v in vars]):\n",
    "    # this should print your arrays\n",
    "    print(r)\n",
    "    \n",
    "    # this should not throw any errors\n",
    "    answer = np.array([2.4571, 0.4400, 3.1257, 3.4108, -0.9266, 0.0467, 2.1918, 1.5256, 1.9748, 0.7204])\n",
    "    assert np.array_equal(answer, np.round(r, 4))\n"
   ]
  },
  {
   "cell_type": "markdown",
   "metadata": {},
   "source": [
    "## Problem (graduate students): advanced indexing, part 1 (2 points)\n",
    "\n",
    "Read about [advanced indexing](https://numpy.org/doc/2.2/user/basics.indexing.html#advanced-indexing) in NumPy. We talked about one form of advanced indexing, which can index into an array using a boolean array of the same size. There is another form of advanced indexing that indexes one array with an array of integers for each dimension. Given the test array `a`, defined below, create a second array `b` that will access the following indices of `a`: 0, 5, 3, 4, 2, 1. Use `b` to index `a`, resulting in a reordered array `c`."
   ]
  },
  {
   "cell_type": "markdown",
   "metadata": {},
   "source": [
    "### Setup"
   ]
  },
  {
   "cell_type": "code",
   "execution_count": 25,
   "metadata": {},
   "outputs": [],
   "source": [
    "a = np.arange(1, 7)\n",
    "b = None\n",
    "c = None"
   ]
  },
  {
   "cell_type": "markdown",
   "metadata": {},
   "source": [
    "### Answer"
   ]
  },
  {
   "cell_type": "code",
   "execution_count": 26,
   "metadata": {},
   "outputs": [],
   "source": [
    "# your code here"
   ]
  },
  {
   "cell_type": "markdown",
   "metadata": {},
   "source": [
    "### Result"
   ]
  },
  {
   "cell_type": "code",
   "execution_count": 27,
   "metadata": {},
   "outputs": [],
   "source": [
    "vars = [b, c]\n",
    "if all([v is not None for v in vars]):\n",
    "    # this should print your arrays\n",
    "    print(b)\n",
    "    print(c)\n",
    "    \n",
    "    # this should not throw any errors\n",
    "    assert np.array_equal(c, np.array([1, 6, 4, 5, 3, 2]))"
   ]
  },
  {
   "cell_type": "markdown",
   "metadata": {},
   "source": [
    "## Problem (graduate students): advanced indexing, part 2 (2 points)\n",
    "\n",
    "Read about [advanced indexing](https://numpy.org/doc/2.2/user/basics.indexing.html#advanced-indexing) in NumPy. When using advanced indexing with multiple dimensions, you can pass one array of integers for each dimension of the array. Given the 2D array `m`, defined below, get the *diagonal* of the matrix by indexing it using two arrays of integers. The diagonal is defined as the elements of a matrix where the row and column are the same. For a 3x3 matrix $m$, the diagonal includes $m_{1,1}$, $m_{2,2}$, and $m_{3,3}$.\n",
    "\n",
    "The diagonal of a matrix can also be extracted using `np.diag`. Get the diagonal of `m` using that method also."
   ]
  },
  {
   "cell_type": "markdown",
   "metadata": {},
   "source": [
    "### Setup"
   ]
  },
  {
   "cell_type": "code",
   "execution_count": 28,
   "metadata": {},
   "outputs": [],
   "source": [
    "m = np.array([[1, 2, 3], [4, 5, 6], [7, 8, 9]])\n",
    "diag_indexing = None\n",
    "diag_function = None"
   ]
  },
  {
   "cell_type": "markdown",
   "metadata": {},
   "source": [
    "### Answer"
   ]
  },
  {
   "cell_type": "code",
   "execution_count": 29,
   "metadata": {},
   "outputs": [],
   "source": [
    "# your code here"
   ]
  },
  {
   "cell_type": "markdown",
   "metadata": {},
   "source": [
    "### Result"
   ]
  },
  {
   "cell_type": "code",
   "execution_count": 30,
   "metadata": {},
   "outputs": [],
   "source": [
    "vars = [diag_indexing, diag_function]\n",
    "if all([v is not None for v in vars]):\n",
    "    # this should print your arrays\n",
    "    print(diag_indexing)\n",
    "    print(diag_function)\n",
    "    \n",
    "    # this should not throw any errors\n",
    "    assert np.array_equal(diag_indexing, np.array([1, 5, 9]))\n",
    "    assert np.array_equal(diag_function, np.array([1, 5, 9]))"
   ]
  }
 ],
 "metadata": {
  "kernelspec": {
   "display_name": "datascipsych",
   "language": "python",
   "name": "datascipsych"
  },
  "language_info": {
   "codemirror_mode": {
    "name": "ipython",
    "version": 3
   },
   "file_extension": ".py",
   "mimetype": "text/x-python",
   "name": "python",
   "nbconvert_exporter": "python",
   "pygments_lexer": "ipython3",
   "version": "3.12.8"
  }
 },
 "nbformat": 4,
 "nbformat_minor": 2
}
