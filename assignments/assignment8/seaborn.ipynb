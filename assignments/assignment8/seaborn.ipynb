{
 "cells": [
  {
   "cell_type": "markdown",
   "id": "0869cb57-59e9-4918-925d-88b9f93e270f",
   "metadata": {
    "editable": true,
    "slideshow": {
     "slide_type": ""
    },
    "tags": []
   },
   "source": [
    "# Plotting data using Seaborn\n",
    "\n",
    "Matplotlib provides a lot of control of plotting details, but requires writing code that handles those details. Seaborn is designed to work with DataFrames and to make useful plotting be as simple as possible."
   ]
  },
  {
   "cell_type": "markdown",
   "id": "8a65d407-dc11-4ac2-a391-f036e20fb59b",
   "metadata": {
    "editable": true,
    "slideshow": {
     "slide_type": ""
    },
    "tags": []
   },
   "source": [
    "## Categorical plots"
   ]
  },
  {
   "cell_type": "markdown",
   "id": "c1910d23-4c4f-4541-9601-b6680b78a288",
   "metadata": {
    "editable": true,
    "slideshow": {
     "slide_type": ""
    },
    "tags": []
   },
   "source": [
    "## Relational plots"
   ]
  },
  {
   "cell_type": "markdown",
   "id": "88120f06-d548-4f69-b1cb-b95574350f60",
   "metadata": {
    "editable": true,
    "slideshow": {
     "slide_type": ""
    },
    "tags": []
   },
   "source": [
    "## Color palettes"
   ]
  },
  {
   "cell_type": "markdown",
   "id": "ee6a4cbd-a938-4caf-a7e5-6b9433014e8f",
   "metadata": {
    "editable": true,
    "slideshow": {
     "slide_type": ""
    },
    "tags": []
   },
   "source": [
    "## Style options"
   ]
  },
  {
   "cell_type": "markdown",
   "id": "a802cede-1e16-407e-b524-7adc27df3af1",
   "metadata": {
    "editable": true,
    "slideshow": {
     "slide_type": ""
    },
    "tags": []
   },
   "source": [
    "## Objects interface"
   ]
  }
 ],
 "metadata": {
  "kernelspec": {
   "display_name": "datascipsych",
   "language": "python",
   "name": "datascipsych"
  },
  "language_info": {
   "codemirror_mode": {
    "name": "ipython",
    "version": 3
   },
   "file_extension": ".py",
   "mimetype": "text/x-python",
   "name": "python",
   "nbconvert_exporter": "python",
   "pygments_lexer": "ipython3",
   "version": "3.12.8"
  }
 },
 "nbformat": 4,
 "nbformat_minor": 5
}
