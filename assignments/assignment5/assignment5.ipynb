{
 "cells": [
  {
   "cell_type": "markdown",
   "metadata": {},
   "source": [
    "# Assignment 5\n",
    "\n",
    "Please fill in blanks in the *Answer* sections of this notebook. To check your answer for a problem, run the Setup, Answer, and Result sections. DO NOT MODIFY SETUP OR RESULT CELLS. See the [README](https://github.com/mortonne/datascipsych) for instructions on setting up a Python environment to run this notebook.\n",
    "\n",
    "Write your answers for each problem. Then restart the kernel, run all cells, and then save the notebook. Upload your notebook to Canvas.\n",
    "\n",
    "If you get stuck, read through the other notebooks in this directory, ask us for help in class, or ask other students for help in class or on the weekly discussion board."
   ]
  },
  {
   "cell_type": "markdown",
   "metadata": {},
   "source": [
    "## Problem: creating a NumPy array (2 points)\n",
    "Create a NumPy array called `x` with the following data: 0.4, 0.8, 1.5, 1.6, 2.3, 4.2."
   ]
  },
  {
   "cell_type": "markdown",
   "metadata": {},
   "source": [
    "### Setup"
   ]
  },
  {
   "cell_type": "code",
   "execution_count": 1,
   "metadata": {},
   "outputs": [],
   "source": [
    "import numpy as np\n",
    "x = None"
   ]
  },
  {
   "cell_type": "markdown",
   "metadata": {},
   "source": [
    "### Answer"
   ]
  },
  {
   "cell_type": "code",
   "execution_count": 2,
   "metadata": {},
   "outputs": [],
   "source": [
    "# your code here"
   ]
  },
  {
   "cell_type": "markdown",
   "metadata": {},
   "source": [
    "### Result"
   ]
  },
  {
   "cell_type": "code",
   "execution_count": 3,
   "metadata": {},
   "outputs": [],
   "source": [
    "if x is not None:\n",
    "    # this should print your array\n",
    "    print(x)\n",
    "    \n",
    "    # this should not throw any errors\n",
    "    assert isinstance(x, np.ndarray)\n",
    "    assert x[2] == 1.5\n",
    "    assert x.size == 6\n",
    "    assert x.ndim == 1\n",
    "    assert x.dtype == float"
   ]
  },
  {
   "cell_type": "markdown",
   "metadata": {},
   "source": [
    "## Problem: using array generation functions (2 points)\n",
    "Create an array of 4 zeros called `x_zeros` using `np.zeros`. Create a 3 x 3 x 3 array of ones called `x_ones` using `np.ones`. Create an array called `x_range` with the numbers 3 through 6 (inclusive) using `np.arange`."
   ]
  },
  {
   "cell_type": "markdown",
   "metadata": {},
   "source": [
    "### Setup"
   ]
  },
  {
   "cell_type": "code",
   "execution_count": 4,
   "metadata": {},
   "outputs": [],
   "source": [
    "x_zeros = None\n",
    "x_ones = None\n",
    "x_range = None"
   ]
  },
  {
   "cell_type": "markdown",
   "metadata": {},
   "source": [
    "### Answer"
   ]
  },
  {
   "cell_type": "code",
   "execution_count": 5,
   "metadata": {},
   "outputs": [],
   "source": [
    "# your code here"
   ]
  },
  {
   "cell_type": "markdown",
   "metadata": {},
   "source": [
    "### Result"
   ]
  },
  {
   "cell_type": "code",
   "execution_count": 6,
   "metadata": {},
   "outputs": [],
   "source": [
    "vars = [x_zeros, x_ones, x_range]\n",
    "if all([v is not None for v in vars]):\n",
    "    # this should print your arrays\n",
    "    print(x_zeros)\n",
    "    print(x_ones)\n",
    "    print(x_range)\n",
    "    \n",
    "    # this should not throw any errors\n",
    "    assert isinstance(x_zeros, np.ndarray)\n",
    "    assert isinstance(x_ones, np.ndarray)\n",
    "    assert isinstance(x_range, np.ndarray)\n",
    "    assert np.all(x_zeros == 0)\n",
    "    assert x_zeros.ndim == 1\n",
    "    assert x_zeros.shape == (4,)\n",
    "    assert np.all(x_ones == 1)\n",
    "    assert x_ones.ndim == 3\n",
    "    assert x_ones.shape == (3, 3, 3)\n",
    "    assert x_range[0] == 3\n",
    "    assert x_range[-1] == 6\n",
    "    assert x_range.size == 4\n",
    "    assert x_range.ndim == 1"
   ]
  },
  {
   "cell_type": "markdown",
   "metadata": {},
   "source": [
    "## Problem: accessing array attributes (2 points)\n",
    "For the array `z` (defined below), use array attributes (accessed using `z.[attribute]`) to get the number of dimensions, the size of each dimension, and the total number of elements."
   ]
  },
  {
   "cell_type": "markdown",
   "metadata": {},
   "source": [
    "### Setup"
   ]
  },
  {
   "cell_type": "code",
   "execution_count": 7,
   "metadata": {},
   "outputs": [],
   "source": [
    "z = np.array([[1, 2, 3], [4, 5, 6]])\n",
    "zdims = None\n",
    "zshape = None\n",
    "ztot = None"
   ]
  },
  {
   "cell_type": "markdown",
   "metadata": {},
   "source": [
    "### Answer"
   ]
  },
  {
   "cell_type": "code",
   "execution_count": 8,
   "metadata": {},
   "outputs": [],
   "source": [
    "# your code here"
   ]
  },
  {
   "cell_type": "markdown",
   "metadata": {},
   "source": [
    "### Result"
   ]
  },
  {
   "cell_type": "code",
   "execution_count": 9,
   "metadata": {},
   "outputs": [],
   "source": [
    "\n",
    "vars = [zdims, zshape, ztot]\n",
    "if all([v is not None for v in vars]):\n",
    "    # this should print your variables\n",
    "    print(zdims, zshape, ztot)\n",
    "\n",
    "    # this should not throw any errors\n",
    "    assert zdims == 2\n",
    "    assert zshape == (2, 3)\n",
    "    assert ztot == 6"
   ]
  },
  {
   "cell_type": "markdown",
   "metadata": {},
   "source": [
    "## Problem: accessing array data (2 points)\n",
    "For the array `a` (defined below), use indexing to get the fourth item. Then use slicing to get a view of the array showing items two through four (inclusive)."
   ]
  },
  {
   "cell_type": "markdown",
   "metadata": {},
   "source": [
    "### Setup"
   ]
  },
  {
   "cell_type": "code",
   "execution_count": 10,
   "metadata": {},
   "outputs": [],
   "source": [
    "a = np.array([5, 4, 3, 2, 1])\n",
    "a_four = None\n",
    "a_two_thru_four = None"
   ]
  },
  {
   "cell_type": "markdown",
   "metadata": {},
   "source": [
    "### Answer"
   ]
  },
  {
   "cell_type": "code",
   "execution_count": 11,
   "metadata": {},
   "outputs": [],
   "source": [
    "# your code here"
   ]
  },
  {
   "cell_type": "markdown",
   "metadata": {},
   "source": [
    "### Result"
   ]
  },
  {
   "cell_type": "code",
   "execution_count": 12,
   "metadata": {},
   "outputs": [],
   "source": [
    "if a_four is not None and a_two_thru_four is not None:\n",
    "    # this should print your variables\n",
    "    print(a_four, a_two_thru_four)\n",
    "\n",
    "    # this should not throw any errors\n",
    "    assert isinstance(a_four, np.int64)\n",
    "    assert isinstance(a_two_thru_four, np.ndarray)\n",
    "    assert a_four == 2\n",
    "    assert np.array_equal(a_two_thru_four, np.array([4, 3, 2]))"
   ]
  },
  {
   "cell_type": "markdown",
   "metadata": {},
   "source": [
    "## Problem: using array functions (2 points)\n",
    "For the array `correct` (defined below), which labels a series of trials in a memory experiment by whether they were correct (1) or incorrect (0), use NumPy attributes and functions to calculate the number of trials, the total number of correct responses, and the fraction of correct responses."
   ]
  },
  {
   "cell_type": "markdown",
   "metadata": {},
   "source": [
    "### Setup"
   ]
  },
  {
   "cell_type": "code",
   "execution_count": 13,
   "metadata": {},
   "outputs": [],
   "source": [
    "correct = np.array([0, 1, 1, 1, 0, 0, 1, 0, 0, 1])\n",
    "n_trial = None\n",
    "n_correct = None\n",
    "fraction_correct = None"
   ]
  },
  {
   "cell_type": "markdown",
   "metadata": {},
   "source": [
    "### Answer"
   ]
  },
  {
   "cell_type": "code",
   "execution_count": 14,
   "metadata": {},
   "outputs": [],
   "source": [
    "# your code here"
   ]
  },
  {
   "cell_type": "markdown",
   "metadata": {},
   "source": [
    "### Result"
   ]
  },
  {
   "cell_type": "code",
   "execution_count": 15,
   "metadata": {},
   "outputs": [],
   "source": [
    "vars = [n_trial, n_correct, fraction_correct]\n",
    "if all([v is not None for v in vars]):\n",
    "    # this should print your variables\n",
    "    print(n_trial, n_correct, fraction_correct)\n",
    "\n",
    "    # this should not throw any errors\n",
    "    assert n_trial == 10\n",
    "    assert n_correct == 5\n",
    "    assert fraction_correct == 0.5"
   ]
  },
  {
   "cell_type": "markdown",
   "metadata": {},
   "source": [
    "## Problem: filtering an array (2 points)\n",
    "Create a NumPy array called `b` with the following data: 12, 4, 3, 10, 15, 1. Then use array filtering with comparison operators (for example, `<`, `>`, `==`, `<=`, `>=`) to filter `b` and get an array called `c`, which has just the numbers that are less than or equal to 10."
   ]
  },
  {
   "cell_type": "markdown",
   "metadata": {},
   "source": [
    "### Setup"
   ]
  },
  {
   "cell_type": "code",
   "execution_count": 16,
   "metadata": {},
   "outputs": [],
   "source": [
    "b = None\n",
    "c = None"
   ]
  },
  {
   "cell_type": "markdown",
   "metadata": {},
   "source": [
    "### Answer"
   ]
  },
  {
   "cell_type": "code",
   "execution_count": 17,
   "metadata": {},
   "outputs": [],
   "source": [
    "# your code here"
   ]
  },
  {
   "cell_type": "markdown",
   "metadata": {},
   "source": [
    "### Result"
   ]
  },
  {
   "cell_type": "code",
   "execution_count": 18,
   "metadata": {},
   "outputs": [],
   "source": [
    "if b is not None and c is not None:\n",
    "    # this should print your arrays\n",
    "    print(b, c)\n",
    "    \n",
    "    # this should not throw any errors\n",
    "    assert isinstance(b, np.ndarray)\n",
    "    assert isinstance(c, np.ndarray)\n",
    "    assert b[2] == 3\n",
    "    assert b.size == 6\n",
    "    assert np.array_equal(c, np.array([4, 3, 10, 1]))"
   ]
  },
  {
   "cell_type": "markdown",
   "metadata": {},
   "source": [
    "## Problem (graduate students): data analysis using NumPy (4 points)\n",
    "Say that you have data from a psychology experiment where participants had to make responses in two conditions: A and B. For each trial, you have a variable indicating whether the response was correct and a variable indicating the response time. The table below shows the data for six trials.\n",
    "\n",
    "| condition | correct | response_time |\n",
    "| --------- | ------- | ------------- |\n",
    "| A         | 1       | 1.5           |\n",
    "| B         | 1       | 1.3           |\n",
    "| A         | 0       | 2.9           |\n",
    "| B         | 1       | 1.2           |\n",
    "| B         | 1       | 1.4           |\n",
    "| A         | 0       | 2.3           |\n",
    "\n",
    "Create NumPy arrays called `condition`, `correct`, and `response_time` to represent each variable in the study. Then use array filtering (see the Filtering arrays section in the lecture) and NumPy functions (see the Array functions section in the lecture) to calculate fraction correct in condition A, fraction correct in condition B, mean response time in condition A, and mean response time in condition B."
   ]
  },
  {
   "cell_type": "markdown",
   "metadata": {},
   "source": [
    "### Setup"
   ]
  },
  {
   "cell_type": "code",
   "execution_count": 19,
   "metadata": {},
   "outputs": [],
   "source": [
    "condition = None\n",
    "correct = None\n",
    "response_time = None\n",
    "accuracy_A = None\n",
    "accuracy_B = None\n",
    "response_time_A = None\n",
    "response_time_B = None"
   ]
  },
  {
   "cell_type": "markdown",
   "metadata": {},
   "source": [
    "### Answer"
   ]
  },
  {
   "cell_type": "code",
   "execution_count": 20,
   "metadata": {},
   "outputs": [],
   "source": [
    "# your code here"
   ]
  },
  {
   "cell_type": "markdown",
   "metadata": {},
   "source": [
    "### Result"
   ]
  },
  {
   "cell_type": "code",
   "execution_count": 21,
   "metadata": {},
   "outputs": [],
   "source": [
    "vars = [condition, correct, response_time, accuracy_A, accuracy_B, response_time_A, response_time_B]\n",
    "if all([x is not None for x in vars]):\n",
    "    # this should print your arrays\n",
    "    print(condition)\n",
    "    print(correct)\n",
    "    print(response_time)\n",
    "    print(f\"{accuracy_A=}, {accuracy_B=}, {response_time_A=}, {response_time_B=}\")\n",
    "    \n",
    "    # this should not throw any errors\n",
    "    assert isinstance(condition, np.ndarray)\n",
    "    assert isinstance(correct, np.ndarray)\n",
    "    assert isinstance(response_time, np.ndarray)\n",
    "    assert round(accuracy_A, 2) == 0.33\n",
    "    assert round(accuracy_B, 2) == 1.00\n",
    "    assert round(response_time_A, 2) == 2.23\n",
    "    assert round(response_time_B, 2) == 1.30"
   ]
  },
  {
   "cell_type": "markdown",
   "metadata": {},
   "source": [
    "## Problem (graduate students): using broadcasting (4 points)\n",
    "Read about [broadcasting](https://numpy.org/doc/stable/user/basics.broadcasting.html) of NumPy arrays.\n",
    "\n",
    "Say that you have a matrix:\n",
    "\n",
    "$$\n",
    "M = \\begin{pmatrix}\n",
    "    1.0 & 2.0 & 3.0 \\\\\n",
    "    1.1 & 2.2 & 3.3 \\\\\n",
    "    1.2 & 2.4 & 3.6 \\\\\n",
    "    \\end{pmatrix}\n",
    "$$\n",
    "\n",
    "And a set of values that you want to use to scale the columns of the matrix:\n",
    "\n",
    "$$\n",
    "S = \\begin{pmatrix}\n",
    "    1 & 2 & 3 \\\\\n",
    "    \\end{pmatrix}\n",
    "$$\n",
    "\n",
    "Create a 2D NumPy array called `M` with the same data as above, and a 1D NumPy array called `S`. Multiply `M` by `S` to scale each column, resulting in a new variable `M_scaled`. That is, column 1 in M should be multiplied by 1, column 2 should be multiplied by 2, and column 3 should be multiplied by 3. This will involve using the regular multiplication operator (`*`), not matrix multiplication (`@`)."
   ]
  },
  {
   "cell_type": "markdown",
   "metadata": {},
   "source": [
    "### Setup"
   ]
  },
  {
   "cell_type": "code",
   "execution_count": 22,
   "metadata": {},
   "outputs": [],
   "source": [
    "M = None\n",
    "S = None\n",
    "M_scaled = None"
   ]
  },
  {
   "cell_type": "markdown",
   "metadata": {},
   "source": [
    "### Answer"
   ]
  },
  {
   "cell_type": "code",
   "execution_count": 23,
   "metadata": {},
   "outputs": [],
   "source": [
    "# your code here"
   ]
  },
  {
   "cell_type": "markdown",
   "metadata": {},
   "source": [
    "### Result"
   ]
  },
  {
   "cell_type": "code",
   "execution_count": 24,
   "metadata": {},
   "outputs": [],
   "source": [
    "vars = [M, S, M_scaled]\n",
    "if all([x is not None for x in vars]):\n",
    "    # this should print your arrays\n",
    "    print(M)\n",
    "    print(S)\n",
    "    print(M_scaled)\n",
    "    \n",
    "    # this should not throw any errors\n",
    "    answer = np.array([[1.0, 4.0, 9.0], [1.1, 4.4, 9.9], [1.2, 4.8, 10.8]])\n",
    "    assert isinstance(M, np.ndarray)\n",
    "    assert isinstance(S, np.ndarray)\n",
    "    assert isinstance(M_scaled, np.ndarray)\n",
    "    np.testing.assert_allclose(M_scaled, answer)"
   ]
  }
 ],
 "metadata": {
  "kernelspec": {
   "display_name": ".venv",
   "language": "python",
   "name": "python3"
  },
  "language_info": {
   "codemirror_mode": {
    "name": "ipython",
    "version": 3
   },
   "file_extension": ".py",
   "mimetype": "text/x-python",
   "name": "python",
   "nbconvert_exporter": "python",
   "pygments_lexer": "ipython3",
   "version": "3.12.8"
  }
 },
 "nbformat": 4,
 "nbformat_minor": 2
}
